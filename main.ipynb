{
 "cells": [
  {
   "cell_type": "markdown",
   "id": "86320c87",
   "metadata": {},
   "source": [
    "## Información del Cuaderno\n",
    "\n",
    "**Máster en Computación Cuántica - UNIR**\n",
    "\n",
    "**Asignatura:** Computación Cuántica\n",
    "\n",
    "**Actividad del Cuaderno por:** Albert Nieto Morales, Javier Hernanz Zajara\n",
    "\n",
    "**Fecha:** 2023-12-27\n",
    "\n",
    "---\n",
    "\n",
    "*Nota: Este cuaderno es parte del programa de Máster en Computación Cuántica en UNIR. El contenido se centra en la Computación Cuántica y fue creado por Albert Nieto Morales, Javier Hernanz Zajara. Consulte la fecha para la última actualización.*\n"
   ]
  },
  {
   "cell_type": "markdown",
   "id": "4f09f754",
   "metadata": {},
   "source": [
    "# Enunciado y librerías\n",
    "\n",
    "### Introducción\n",
    "\n",
    "En esta actividad, se busca desarrollar competencias clave en el manejo de conceptos fundamentales de computación cuántica. Los objetivos principales incluyen la utilización de puertas cuánticas básicas, la comprensión de la evolución del estado cuántico, la exploración de los estados de Bell y la implementación de un incrementador cuántico.\n",
    "\n",
    "### Pautas de Elaboración\n",
    "\n",
    "**Ejercicio 1: Evolución a Estados de Bell**\n",
    "\n",
    "Se propone la implementación de cuatro circuitos cuánticos, cada uno evolucionando el estado del sistema a uno de los cuatro Estados de Bell. La descripción de la evolución se realiza tanto con notación de Dirac como en forma matricial. La verificación se lleva a cabo mediante la implementación en Qiskit Quantum Lab.\n",
    "\n",
    "**Ejercicio 2: Suma Cuántica de Cúbits**\n",
    "\n",
    "Se plantea la implementación de circuitos cuánticos de cuatro cúbits que suman los valores del 1 al 8 en un registro cuántico. La verificación de su correcto funcionamiento se realiza en Qiskit Quantum Lab.\n",
    "\n",
    "**Ejercicio 3: Teleportación Cuántica**\n",
    "\n",
    "Implementar en Python el algoritmo de teleportación cuántica para teleportar el estado  del cúbit de Alice al cúbit de Bob. El estado  viene determinado por los ángulos  grados y  grados, de la esfera de Bloch."
   ]
  },
  {
   "cell_type": "markdown",
   "id": "669ebfad",
   "metadata": {
    "tags": []
   },
   "source": [
    "## Librerías\n",
    "\n",
    "Los paquetes necesarios para realizar la actividad son:\n",
    "\n",
    "- `qiskit`: La biblioteca principal de Qiskit.\n",
    "- `qiskit_ibm_provider`: Proporciona acceso a los servicios en la nube de IBM Quantum.\n",
    "- `qiskit-aer`: Proporciona acceso a simuladores cuánticos."
   ]
  },
  {
   "cell_type": "code",
   "execution_count": 1,
   "id": "efe160e5",
   "metadata": {},
   "outputs": [],
   "source": [
    "%%capture\n",
    "%pip install qiskit\n",
    "%pip install qiskit_ibm_provider\n",
    "%pip install qiskit-aer"
   ]
  },
  {
   "cell_type": "code",
   "execution_count": 2,
   "id": "9dab389e-3674-47e1-901d-81a26bf9f874",
   "metadata": {
    "tags": []
   },
   "outputs": [],
   "source": [
    "# Importing standard Qiskit libraries\n",
    "from qiskit import QuantumRegister, ClassicalRegister, QuantumCircuit, QuantumCircuit, transpile, Aer\n",
    "from qiskit_ibm_provider import IBMProvider\n",
    "from qiskit.tools.jupyter import *\n",
    "from qiskit.visualization import *\n",
    "from qiskit.circuit.library import C3XGate\n",
    "\n",
    "# Importing matplotlib\n",
    "import matplotlib.pyplot as plt\n",
    "\n",
    "# Importing Numpy, Cmath and math\n",
    "import numpy as np\n",
    "import os, math, cmath\n",
    "from numpy import pi\n",
    "\n",
    "# Other imports\n",
    "from IPython.display import display, Math, Latex"
   ]
  },
  {
   "cell_type": "markdown",
   "id": "2bb2db2c",
   "metadata": {},
   "source": [
    "Cargamos y actualizamos el entorno con las variables de entorno guardadas en `config.env`."
   ]
  },
  {
   "cell_type": "code",
   "execution_count": 3,
   "id": "5550692a",
   "metadata": {},
   "outputs": [],
   "source": [
    "# Specify the path to your env file\n",
    "env_file_path = 'config.env'\n",
    "\n",
    "# Load environment variables from the file\n",
    "os.environ.update(line.strip().split('=', 1) for line in open(env_file_path) if '=' in line and not line.startswith('#'))\n",
    "\n",
    "# Load IBM Provider API KEY\n",
    "IBMP_API_KEY = os.environ.get('IBMP_API_KEY')"
   ]
  },
  {
   "cell_type": "markdown",
   "id": "ec20b260",
   "metadata": {},
   "source": [
    "Luego, extraemos la clave de API de IBM Quantum Provider y se guarda en la variable `IBMP_API_KEY`."
   ]
  },
  {
   "cell_type": "code",
   "execution_count": 4,
   "id": "77e60167-0c41-45e8-ae58-5e1b30338f4c",
   "metadata": {},
   "outputs": [],
   "source": [
    "# Loading your IBM Quantum account(s)\n",
    "IBMProvider.save_account(IBMP_API_KEY, overwrite=True)\n",
    "\n",
    "# Run the quantum circuit on a statevector simulator backend\n",
    "backend = Aer.get_backend('statevector_simulator')"
   ]
  },
  {
   "cell_type": "markdown",
   "id": "e51a75ac",
   "metadata": {
    "tags": []
   },
   "source": [
    "# Ejercicio 1\n",
    "Implementar cuatro circuitos cuánticos de forma que cada uno de ellos haga evolucionar el estado del sistema a cada uno de los cuatro estados de Bell. Describe la evolución del sistema paso a paso de dos formas: con notación de Dirac y en forma matricial. Finalmente, implementa los circuitos utilizando QISKIt Quantum Lab y verifica que los resultados son los esperados."
   ]
  },
  {
   "cell_type": "markdown",
   "id": "741d45da-4273-496c-944b-460cdf88e56d",
   "metadata": {
    "tags": []
   },
   "source": [
    "## Estados de Bell\n",
    "\n",
    "En computación cuántica, los Estados de Bell son un conjunto de cuatro estados cuánticos maximamente entrelazados. Estos estados, también conocidos como \"pares EPR\" o \"qubits entrelazados\", son generados mediante una serie de operaciones cuánticas específicas. Los cuatro Estados de Bell se denotan como:\n",
    "\n",
    "$$ |\\Phi^+\\rangle = \\frac{1}{\\sqrt 2}(|0\\rangle_A \\otimes |0\\rangle_B+|1\\rangle_A \\otimes |1\\rangle_B) = \\frac{|00\\rangle + |11\\rangle}{\\sqrt 2}  = \\frac{1}{\\sqrt 2} |00\\rangle + \\frac{1}{\\sqrt 2} |11\\rangle = \\frac{1}{\\sqrt 2} ( |00\\rangle + |11\\rangle ) $$\n",
    "\n",
    "$$ |\\Phi^-\\rangle = \\frac{1}{\\sqrt 2}(|0\\rangle_A \\otimes |0\\rangle_B - |1\\rangle_A \\otimes |1\\rangle_B)  = \\frac{|00\\rangle - |11\\rangle}{\\sqrt 2}  = \\frac{1}{\\sqrt 2} |00\\rangle - \\frac{1}{\\sqrt 2} |11\\rangle = \\frac{1}{\\sqrt 2} ( |00\\rangle - |11\\rangle ) $$\n",
    "\n",
    "$$ |\\Psi^+ \\rangle = \\frac{1}{\\sqrt 2}(|0\\rangle_A \\otimes |1\\rangle_B+|1\\rangle_A \\otimes |0\\rangle_B)  = \\frac{|01\\rangle + |10\\rangle}{\\sqrt 2}  = \\frac{1}{\\sqrt 2} |01\\rangle + \\frac{1}{\\sqrt 2} |10\\rangle = \\frac{1}{\\sqrt 2} ( |01\\rangle + |10\\rangle ) $$\n",
    "\n",
    "$$ |\\Psi^- \\rangle = \\frac{1}{\\sqrt 2}(|0\\rangle_A \\otimes |1\\rangle_B - |1\\rangle_A \\otimes |0\\rangle_B) = \\frac{|01\\rangle - |10\\rangle}{\\sqrt 2} = \\frac{1}{\\sqrt 2} |01\\rangle - \\frac{1}{\\sqrt 2} |10\\rangle = \\frac{1}{\\sqrt 2} ( |01\\rangle - |10\\rangle ) $$"
   ]
  },
  {
   "cell_type": "markdown",
   "id": "38b0f4e4",
   "metadata": {},
   "source": [
    "Para realizar este ejercicio, definamos los vectores de estado $|0⟩$ y $|1⟩$ con su forma matricial en NumPy."
   ]
  },
  {
   "cell_type": "code",
   "execution_count": 5,
   "id": "167f7029",
   "metadata": {},
   "outputs": [],
   "source": [
    "sv_0 = np.array([1, 0])\n",
    "sv_1 = np.array([0, 1])"
   ]
  },
  {
   "cell_type": "markdown",
   "id": "0079feff",
   "metadata": {
    "tags": []
   },
   "source": [
    "## Funciones auxiliares\n",
    "\n",
    "Para simplificar los pasos, se ha creado una función principal llamada `array_to_dirac_and_matrix_latex`. Esta función toma una matriz de NumPy que representa el estado del sistema y genera código LaTeX para visualizar tanto la representación matricial como la notación de Dirac del estado cuántico. Además, utiliza tres funciones auxiliares para realizar estas tareas:\n",
    "\n",
    "- **`array_to_matrix_representation`**: Convierte un array unidimensional en una representación matricial en columna.\n",
    "\n",
    "- **`array_to_dirac_notation`**: Convierte un array complejo que representa un estado cuántico en superposición a la notación de Dirac.\n",
    "\n",
    "- **`find_symbolic_representation`**: Verifica si un valor numérico corresponde a una constante simbólica dentro de una tolerancia especificada. Si se encuentra una correspondencia, devuelve la representación simbólica como cadena (con un signo '-' si el valor es negativo), de lo contrario, devuelve el valor original."
   ]
  },
  {
   "cell_type": "markdown",
   "id": "41fc2c06",
   "metadata": {},
   "source": [
    "### `is_symbolic_constant` Function:\n",
    "\n",
    "**Purpose:**\n",
    "The `is_symbolic_constant` function checks if an amplitude corresponds to a symbolic constant within a specified tolerance.\n",
    "\n",
    "**Attributes:**\n",
    "- `amplitude` (float): The amplitude to check.\n",
    "- `symbolic_constants` (dict): A dictionary mapping numerical values to their symbolic representations.\n",
    "- `tolerance` (float): Tolerance for comparing amplitudes with symbolic constants.\n",
    "\n",
    "**Methods:**\n",
    "None\n",
    "\n",
    "**Example Usage:**\n",
    "```python\n",
    "symbol = is_symbolic_constant(my_amplitude)\n"
   ]
  },
  {
   "cell_type": "code",
   "execution_count": 6,
   "id": "b6b19c1e",
   "metadata": {},
   "outputs": [],
   "source": [
    "def find_symbolic_representation(value, symbolic_constants={1/np.sqrt(2): '1/√2'}, tolerance=1e-10):\n",
    "    \"\"\"\n",
    "    Check if the given numerical value corresponds to a symbolic constant within a specified tolerance.\n",
    "\n",
    "    Parameters:\n",
    "    - value (float): The numerical value to check.\n",
    "    - symbolic_constants (dict): A dictionary mapping numerical values to their symbolic representations.\n",
    "                                Defaults to {1/np.sqrt(2): '1/√2'}.\n",
    "    - tolerance (float): Tolerance for comparing values with symbolic constants. Defaults to 1e-10.\n",
    "\n",
    "    Returns:\n",
    "    str or float: If a match is found, returns the symbolic representation as a string \n",
    "                  (prefixed with '-' if the value is negative); otherwise, returns the original value.\n",
    "    \"\"\"\n",
    "    for constant, symbol in symbolic_constants.items():\n",
    "        if np.isclose(abs(value), constant, atol=tolerance):\n",
    "            return symbol if value >= 0 else '-' + symbol\n",
    "    return value\n"
   ]
  },
  {
   "cell_type": "markdown",
   "id": "d096c9ec",
   "metadata": {},
   "source": [
    "### `array_to_dirac_notation` Function:\n",
    "\n",
    "**Purpose:**\n",
    "The `array_to_dirac_notation` function is designed to convert a complex-valued array representing a quantum state in superposition to Dirac notation.\n",
    "\n",
    "**Attributes:**\n",
    "- `array` (numpy.ndarray): The complex-valued array representing the quantum state in superposition.\n",
    "- `tolerance` (float): Tolerance for considering amplitudes as negligible.\n",
    "\n",
    "**Methods:**\n",
    "None\n",
    "\n",
    "**Example Usage:**\n",
    "```python\n",
    "dirac_notation = array_to_dirac_notation(my_quantum_state)\n"
   ]
  },
  {
   "cell_type": "code",
   "execution_count": 7,
   "id": "b9926111",
   "metadata": {},
   "outputs": [],
   "source": [
    "def array_to_dirac_notation(array, tolerance=1e-10):\n",
    "    \"\"\"\n",
    "    Convert a complex-valued array representing a quantum state in superposition\n",
    "    to Dirac notation.\n",
    "\n",
    "    Parameters:\n",
    "    - array (numpy.ndarray): The complex-valued array representing\n",
    "      the quantum state in superposition.\n",
    "    - tolerance (float): Tolerance for considering amplitudes as negligible.\n",
    "\n",
    "    Returns:\n",
    "    str: The Dirac notation representation of the quantum state.\n",
    "    \"\"\"\n",
    "    # Ensure the statevector is normalized\n",
    "    array = array / np.linalg.norm(array)\n",
    "\n",
    "    # Get the number of qubits\n",
    "    num_qubits = int(np.log2(len(array)))\n",
    "\n",
    "    # Find indices where amplitude is not negligible\n",
    "    non_zero_indices = np.where(np.abs(array) > tolerance)[0]\n",
    "\n",
    "    # Generate Dirac notation terms\n",
    "    terms = [\n",
    "        (find_symbolic_representation(array[i]), format(i, f\"0{num_qubits}b\"))\n",
    "        for i in non_zero_indices\n",
    "    ]\n",
    "\n",
    "    # Format Dirac notation\n",
    "    dirac_notation = \" + \".join([f\"{amplitude}|{binary_rep}⟩\" for amplitude, binary_rep in terms])\n",
    "\n",
    "    return dirac_notation"
   ]
  },
  {
   "cell_type": "markdown",
   "id": "257d31c2",
   "metadata": {},
   "source": [
    "### `array_to_matrix_representation` Function:\n",
    "\n",
    "**Purpose:**\n",
    "The `array_to_matrix_representation` function is designed to convert a one-dimensional array to a column matrix representation.\n",
    "\n",
    "**Attributes:**\n",
    "- `array` (numpy.ndarray): The one-dimensional array to be converted.\n",
    "\n",
    "**Methods:**\n",
    "None\n",
    "\n",
    "**Example Usage:**\n",
    "```python\n",
    "matrix_rep = array_to_matrix_representation(my_array)\n"
   ]
  },
  {
   "cell_type": "code",
   "execution_count": 8,
   "id": "9797f1de",
   "metadata": {},
   "outputs": [],
   "source": [
    "def array_to_matrix_representation(array):\n",
    "    \"\"\"\n",
    "    Convert a one-dimensional array to a column matrix representation.\n",
    "\n",
    "    Parameters:\n",
    "    - array (numpy.ndarray): The one-dimensional array to be converted.\n",
    "\n",
    "    Returns:\n",
    "    numpy.ndarray: The column matrix representation of the input array.\n",
    "    \"\"\"\n",
    "    # Replace symbolic constants with their representations\n",
    "    matrix_representation = np.array([find_symbolic_representation(value) or value for value in array])\n",
    "\n",
    "    # Return the column matrix representation\n",
    "    return matrix_representation.reshape((len(matrix_representation), 1))"
   ]
  },
  {
   "cell_type": "markdown",
   "id": "8049bc15",
   "metadata": {},
   "source": [
    "### `array_to_dirac_and_matrix_latex` Function:\n",
    "\n",
    "**Purpose:**\n",
    "The `array_to_dirac_and_matrix_latex` function is designed to generate LaTeX code for displaying both the matrix representation and Dirac notation of a quantum state.\n",
    "\n",
    "**Attributes:**\n",
    "- `array` (numpy.ndarray): The complex-valued array representing the quantum state.\n",
    "\n",
    "**Methods:**\n",
    "- `array_to_matrix_representation(array)`: Converts a one-dimensional array to a column matrix representation.\n",
    "- `array_to_dirac_notation(array, tolerance=1e-10)`: Converts a complex-valued array representing a quantum state in superposition to Dirac notation.\n",
    "- `is_symbolic_constant(amplitude, symbolic_constants={1/np.sqrt(2): '1/√2'}, tolerance=1e-10)`: Checks if an amplitude corresponds to a symbolic constant within a specified tolerance.\n",
    "\n",
    "**Example Usage:**\n",
    "```python\n",
    "result = array_to_dirac_and_matrix_latex(my_quantum_state)\n"
   ]
  },
  {
   "cell_type": "code",
   "execution_count": 9,
   "id": "59f362cf",
   "metadata": {},
   "outputs": [],
   "source": [
    "def array_to_dirac_and_matrix_latex(array):\n",
    "    \"\"\"\n",
    "    Generate LaTeX code for displaying both the matrix representation and Dirac notation\n",
    "    of a quantum state.\n",
    "\n",
    "    Parameters:\n",
    "    - array (numpy.ndarray): The complex-valued array representing the quantum state.\n",
    "\n",
    "    Returns:\n",
    "\n",
    "    Latex: A Latex object containing LaTeX code for displaying both representations.\n",
    "    \"\"\"\n",
    "    matrix_representation = array_to_matrix_representation(array)\n",
    "    latex = \"Matrix representation\\n\\\\begin{bmatrix}\\n\" + \\\n",
    "            \"\\\\\\\\\\n\".join(map(str, matrix_representation.flatten())) + \\\n",
    "            \"\\n\\\\end{bmatrix}\\n\"\n",
    "    latex += f'Dirac Notation:\\n{array_to_dirac_notation(array)}'\n",
    "    return Latex(latex)"
   ]
  },
  {
   "cell_type": "markdown",
   "id": "d0e55add",
   "metadata": {
    "tags": []
   },
   "source": [
    "## Estado de Bell $|\\Phi^+\\rangle$\n",
    "\n",
    "El objetivo es llegar al estado \n",
    "$|\\Phi^+\\rangle = \\frac{1}{\\sqrt{2}}(|00\\rangle + |11\\rangle)$ partiendo del estado base $|00\\rangle$"
   ]
  },
  {
   "cell_type": "markdown",
   "id": "54be8a62-558e-41e6-b6f6-dd68a4bc31d4",
   "metadata": {},
   "source": [
    "### Desarrollo usando notación de Dirac\n",
    "\n",
    "1. Partimos de dos qubits $|A\\rangle$ y $|B\\rangle$ inicializados a $|0\\rangle$, lo cual también ilustraremos como: $|0\\rangle_A$ y $|0\\rangle_B$\n",
    "1. Aplicamos una puerta Hadamard sobre $|0\\rangle_A$ tal que: $\\langle H|A\\rangle$ Equivalente a $\\frac{1}{\\sqrt 2}(|0\\rangle_A + |1\\rangle_A)$\n",
    "1. Puesto que tenemos 2 qubits en nuestro sistema, debemos representarlos como el producto tensorial: $\\langle H|A\\rangle \\otimes |B\\rangle$  Equivalente a $\\frac{1}{\\sqrt 2}(|00\\rangle + |10\\rangle)$\n",
    "1. Por último, necesitamos realizar la operación CNOT en $|B\\rangle$ controlado por $|A\\rangle$, por lo que tendríamos: $ \\langle \\text{CNOT} | (\\langle H|A\\rangle \\otimes |B\\rangle)\\rangle$ Equivalente a $\\frac{1}{\\sqrt 2}(|00\\rangle + |11\\rangle)$"
   ]
  },
  {
   "cell_type": "markdown",
   "id": "180d60d2-b1cb-4e77-b560-b1c4bca1a77d",
   "metadata": {
    "tags": []
   },
   "source": [
    "### Desarrollo usando notación matricial\n",
    "\n",
    "\n",
    "1. Definimos los qubits $|0\\rangle_A = |0\\rangle_B = \\begin{bmatrix}\n",
    "1\\\\\n",
    "0\n",
    "\\end{bmatrix}$, la puerta Hadamard como: $H=\\frac{1}{\\sqrt{2}}\\begin{bmatrix}\n",
    "1 & 1 \\\\\n",
    "1 & -1\n",
    "\\end{bmatrix}$, la puerta CNOT como: $\\text{CNOT}=\\begin{bmatrix}\n",
    "1 & 0 & 0 & 0 \\\\\n",
    "0 & 1 & 0 & 0 \\\\\n",
    "0 & 0 & 0 & 1 \\\\\n",
    "0 & 0 & 1 & 0\n",
    "\\end{bmatrix}$\n",
    "1. Aplicamos la puerta Hadamard sobre $|A\\rangle$ de tal manera que:$\\frac{1}{\\sqrt{2}}\\begin{bmatrix}\n",
    "1 & 1 \\\\\n",
    "1 & -1\n",
    "\\end{bmatrix} \\begin{bmatrix}\n",
    "1\\\\\n",
    "0\n",
    "\\end{bmatrix} = \\frac{1}{\\sqrt{2}} \\begin{bmatrix}\n",
    "1\\\\\n",
    "1\n",
    "\\end{bmatrix} $\n",
    "1. Calculamos el estado del sistema considerando también $|B\\rangle$ en forma de producto tensorial:\n",
    "$\n",
    "\\frac{1}{\\sqrt{2}} \\begin{bmatrix}\n",
    "1\\\\\n",
    "1\n",
    "\\end{bmatrix} \\otimes  \\begin{bmatrix}\n",
    "1\\\\\n",
    "0\n",
    "\\end{bmatrix} = \\frac{1}{\\sqrt{2}} \\begin{bmatrix}\n",
    "1\\\\\n",
    "0\\\\\n",
    "1\\\\\n",
    "0\n",
    "\\end{bmatrix}\n",
    "$\n",
    "1. Por último, aplicamos la puerta CNOT entre ambos qubits:\n",
    "$\n",
    "\\frac{1}{\\sqrt{2}} \\begin{bmatrix}\n",
    "1 & 0 & 0 & 0 \\\\\n",
    "0 & 1 & 0 & 0 \\\\\n",
    "0 & 0 & 0 & 1 \\\\\n",
    "0 & 0 & 1 & 0\n",
    "\\end{bmatrix}\n",
    "\\begin{bmatrix}\n",
    "1\\\\\n",
    "0\\\\\n",
    "1\\\\\n",
    "0\n",
    "\\end{bmatrix} =  \\frac{1}{\\sqrt{2}} \\begin{bmatrix}\n",
    "1\\\\\n",
    "0\\\\\n",
    "0\\\\\n",
    "1\n",
    "\\end{bmatrix}\n",
    "$, que se puede comprobar corresponde a la representación matricial del estado buscado."
   ]
  },
  {
   "cell_type": "markdown",
   "id": "51db72c4-db83-463b-9515-67aa70cbdb52",
   "metadata": {},
   "source": [
    "Aprovechando las facilidades de Qiskit, el mismo circuito se representaría tal que:"
   ]
  },
  {
   "cell_type": "code",
   "execution_count": 13,
   "id": "48134505-4d6a-42ec-94e8-2292ae879b1e",
   "metadata": {
    "tags": []
   },
   "outputs": [
    {
     "data": {
      "image/png": "[encoded data removed]",
      "text/plain": [
       "<Figure size 287.294x284.278 with 1 Axes>"
      ]
     },
     "execution_count": 13,
     "metadata": {},
     "output_type": "execute_result"
    }
   ],
   "source": [
    "qreg_q = QuantumRegister(2, 'q')\n",
    "creg_c = ClassicalRegister(1, 'c')\n",
    "circuit = QuantumCircuit(qreg_q, creg_c)\n",
    "\n",
    "circuit.h(qreg_q[0])\n",
    "circuit.cx(qreg_q[0], qreg_q[1])\n",
    "\n",
    "circuit.draw()"
   ]
  },
  {
   "cell_type": "markdown",
   "id": "973c9f9b-2768-4778-8e37-dad953b24596",
   "metadata": {},
   "source": [
    "### Desarrollo algorítmico"
   ]
  },
  {
   "cell_type": "code",
   "execution_count": 10,
   "id": "381c8fca",
   "metadata": {},
   "outputs": [
    {
     "data": {
      "text/latex": [
       "Matrix representation\n",
       "\\begin{bmatrix}\n",
       "1\\\\\n",
       "0\\\\\n",
       "0\\\\\n",
       "0\n",
       "\\end{bmatrix}\n",
       "Dirac Notation:\n",
       "1.0|00⟩"
      ],
      "text/plain": [
       "<IPython.core.display.Latex object>"
      ]
     },
     "execution_count": 10,
     "metadata": {},
     "output_type": "execute_result"
    }
   ],
   "source": [
    "sv_b1 = np.kron(sv_0, sv_0)\n",
    "array_to_dirac_and_matrix_latex(sv_b1)"
   ]
  },
  {
   "cell_type": "markdown",
   "id": "114b0f80",
   "metadata": {},
   "source": [
    "Añadimos una puerta Hadamard al primer qubit:"
   ]
  },
  {
   "cell_type": "code",
   "execution_count": 11,
   "id": "f134c81c",
   "metadata": {},
   "outputs": [
    {
     "data": {
      "text/latex": [
       "Matrix representation\n",
       "\\begin{bmatrix}\n",
       "1/√2\\\\\n",
       "1/√2\\\\\n",
       "0.0\\\\\n",
       "0.0\n",
       "\\end{bmatrix}\n",
       "Dirac Notation:\n",
       "1/√2|00⟩ + 1/√2|01⟩"
      ],
      "text/plain": [
       "<IPython.core.display.Latex object>"
      ]
     },
     "execution_count": 11,
     "metadata": {},
     "output_type": "execute_result"
    }
   ],
   "source": [
    "sv_b1 = (np.kron(sv_0, sv_0) + np.kron(sv_0, sv_1)) / np.sqrt(2)\n",
    "array_to_dirac_and_matrix_latex(sv_b1)"
   ]
  },
  {
   "cell_type": "markdown",
   "id": "83075072",
   "metadata": {},
   "source": [
    "Finalmente añadimos una puerta CNOT, donde el qubit de control es el primer qubit, y el qubit objetivo es el segundo:"
   ]
  },
  {
   "cell_type": "code",
   "execution_count": 12,
   "id": "05206488",
   "metadata": {},
   "outputs": [
    {
     "data": {
      "text/latex": [
       "Matrix representation\n",
       "\\begin{bmatrix}\n",
       "1/√2\\\\\n",
       "0.0\\\\\n",
       "0.0\\\\\n",
       "1/√2\n",
       "\\end{bmatrix}\n",
       "Dirac Notation:\n",
       "1/√2|00⟩ + 1/√2|11⟩"
      ],
      "text/plain": [
       "<IPython.core.display.Latex object>"
      ]
     },
     "execution_count": 12,
     "metadata": {},
     "output_type": "execute_result"
    }
   ],
   "source": [
    "sv_b1 = (np.kron(sv_0, sv_0) + np.kron(sv_1, sv_1)) / np.sqrt(2)\n",
    "array_to_dirac_and_matrix_latex(sv_b1)"
   ]
  },
  {
   "cell_type": "markdown",
   "id": "db999052",
   "metadata": {
    "tags": []
   },
   "source": [
    "## Estado de Bell $|\\Phi^-\\rangle$\n",
    "\n",
    "El objetivo es llegar al estado \n",
    "$|\\Phi^-\\rangle = \\frac{1}{\\sqrt{2}}(|00\\rangle - |11\\rangle)$ partiendo del estado base $|00\\rangle$"
   ]
  },
  {
   "cell_type": "markdown",
   "id": "49a9de8e-1c4c-4629-9cd4-01deb35d97fc",
   "metadata": {},
   "source": [
    "### Desarrollo usando notación de Dirac\n",
    "\n",
    "1. Partimos de dos qubits $|A\\rangle$ y $|B\\rangle$ inicializados a $|0\\rangle$, lo cual también ilustraremos como: $|0\\rangle_A$ y $|0\\rangle_B$\n",
    "1. Aplicamos una puerta Pauli X (X) sobre $|0\\rangle_A$ tal que: $\\langle X|A\\rangle$ Equivalente a $|1\\rangle_A$\n",
    "1. A continuación aplicamos una puerta Hadamard (H) sobre $|0\\rangle_A$ tal que: $\\langle H|X|A\\rangle$ Equivalente a $\\frac{1}{\\sqrt 2}(|0\\rangle_A - |1\\rangle_A)$\n",
    "1. Puesto que tenemos 2 qubits en nuestro sistema, debemos representarlos como el producto tensorial: $\\langle H|X|A\\rangle \\otimes |B\\rangle$ Equivalente a $\\frac{1}{\\sqrt 2}(|00\\rangle - |10\\rangle)$\n",
    "1. Por último, necesitamos realizar la operación CNOT en $|B\\rangle$ controlado por $|A\\rangle$, por lo que tendríamos: $ \\langle \\text{CNOT} | (\\langle H|X|A\\rangle \\otimes |B\\rangle)\\rangle$ Equivalente a $\\frac{1}{\\sqrt 2}(|00\\rangle - |11\\rangle)$ "
   ]
  },
  {
   "cell_type": "markdown",
   "id": "d1cd2c22-f6a3-45f0-b5e2-683a5aac8f7b",
   "metadata": {},
   "source": [
    "### Desarrollo usando notación matricial\n",
    "\n",
    "\n",
    "1. Definimos los qubits $|0\\rangle_A = |0\\rangle_B = \\begin{bmatrix}\n",
    "1\\\\\n",
    "0\n",
    "\\end{bmatrix}$, la puerta Hadamard como: $H=\\frac{1}{\\sqrt{2}}\\begin{bmatrix}\n",
    "1 & 1 \\\\\n",
    "1 & -1\n",
    "\\end{bmatrix}$, la puerta CNOT como: $\\text{CNOT}=\\begin{bmatrix}\n",
    "1 & 0 & 0 & 0 \\\\\n",
    "0 & 1 & 0 & 0 \\\\\n",
    "0 & 0 & 0 & 1 \\\\\n",
    "0 & 0 & 1 & 0\n",
    "\\end{bmatrix}$  y la puerta X (Pauli X) como: $X = \\begin{bmatrix}\n",
    "0 & 1 \\\\\n",
    "1 & 0\n",
    "\\end{bmatrix}$\n",
    "1. Aplicamos respectivamente la puerta X y, a continuación, la Hadamard sobre $|A\\rangle$ de tal manera que:$\\frac{1}{\\sqrt{2}}\\begin{bmatrix}\n",
    "1 & 1 \\\\\n",
    "1 & -1\n",
    "\\end{bmatrix} \n",
    "\\begin{bmatrix}\n",
    "0 & 1 \\\\\n",
    "1 & 0\n",
    "\\end{bmatrix}\n",
    "\\begin{bmatrix}\n",
    "1\\\\\n",
    "0\n",
    "\\end{bmatrix} = \\frac{1}{\\sqrt{2}} \\begin{bmatrix}\n",
    "1\\\\\n",
    "-1\n",
    "\\end{bmatrix} $\n",
    "1. Calculamos el estado del sistema considerando también $|B\\rangle$ en forma de producto tensorial:\n",
    "$\n",
    "\\frac{1}{\\sqrt{2}} \\begin{bmatrix}\n",
    "1\\\\\n",
    "-1\n",
    "\\end{bmatrix} \\otimes  \\begin{bmatrix}\n",
    "1\\\\\n",
    "0\n",
    "\\end{bmatrix} = \\frac{1}{\\sqrt{2}} \\begin{bmatrix}\n",
    "1\\\\\n",
    "0\\\\\n",
    "-1\\\\\n",
    "0\n",
    "\\end{bmatrix}\n",
    "$\n",
    "1. Por último, aplicamos la puerta CNOT entre ambos qubits:\n",
    "$\n",
    "\\frac{1}{\\sqrt{2}} \\begin{bmatrix}\n",
    "1 & 0 & 0 & 0 \\\\\n",
    "0 & 1 & 0 & 0 \\\\\n",
    "0 & 0 & 0 & 1 \\\\\n",
    "0 & 0 & 1 & 0\n",
    "\\end{bmatrix}\n",
    "\\begin{bmatrix}\n",
    "1\\\\\n",
    "0\\\\\n",
    "-1\\\\\n",
    "0\n",
    "\\end{bmatrix} =  \\frac{1}{\\sqrt{2}} \\begin{bmatrix}\n",
    "1\\\\\n",
    "0\\\\\n",
    "0\\\\\n",
    "-1\n",
    "\\end{bmatrix}\n",
    "$, que se puede comprobar corresponde a la representación matricial del estado buscado."
   ]
  },
  {
   "cell_type": "markdown",
   "id": "0fe90604-dd9e-48ee-8f7a-84a137f85d94",
   "metadata": {},
   "source": [
    "Aprovechando las facilidades de Qiskit, el mismo circuito se representaría tal que:"
   ]
  },
  {
   "cell_type": "code",
   "execution_count": 18,
   "id": "906f0901-0966-400a-8852-0cb48f8b65fa",
   "metadata": {
    "tags": []
   },
   "outputs": [
    {
     "data": {
      "image/png": "[encoded data removed]",
      "text/plain": [
       "<Figure size 370.906x284.278 with 1 Axes>"
      ]
     },
     "execution_count": 18,
     "metadata": {},
     "output_type": "execute_result"
    }
   ],
   "source": [
    "qreg_q = QuantumRegister(2, 'q')\n",
    "creg_c = ClassicalRegister(1, 'c')\n",
    "circuit = QuantumCircuit(qreg_q, creg_c)\n",
    "\n",
    "circuit.x(qreg_q[0])\n",
    "circuit.h(qreg_q[0])\n",
    "circuit.cx(qreg_q[0], qreg_q[1])\n",
    "\n",
    "circuit.draw()"
   ]
  },
  {
   "cell_type": "markdown",
   "id": "415ad82d-2aae-4a4e-b236-a89d01901ca9",
   "metadata": {},
   "source": [
    "### Desarrollo algorítmico"
   ]
  },
  {
   "cell_type": "code",
   "execution_count": 14,
   "id": "4bf2726e",
   "metadata": {},
   "outputs": [
    {
     "data": {
      "text/latex": [
       "Matrix representation\n",
       "\\begin{bmatrix}\n",
       "1\\\\\n",
       "0\\\\\n",
       "0\\\\\n",
       "0\n",
       "\\end{bmatrix}\n",
       "Dirac Notation:\n",
       "1.0|00⟩"
      ],
      "text/plain": [
       "<IPython.core.display.Latex object>"
      ]
     },
     "execution_count": 14,
     "metadata": {},
     "output_type": "execute_result"
    }
   ],
   "source": [
    "sv_b2 = np.kron(sv_0, sv_0)\n",
    "array_to_dirac_and_matrix_latex(sv_b2)"
   ]
  },
  {
   "cell_type": "markdown",
   "id": "5c409eae",
   "metadata": {},
   "source": [
    "Añadimos una puerta Hadamard al primer qubit:"
   ]
  },
  {
   "cell_type": "code",
   "execution_count": 15,
   "id": "876db486",
   "metadata": {},
   "outputs": [
    {
     "data": {
      "text/latex": [
       "Matrix representation\n",
       "\\begin{bmatrix}\n",
       "1/√2\\\\\n",
       "1/√2\\\\\n",
       "0.0\\\\\n",
       "0.0\n",
       "\\end{bmatrix}\n",
       "Dirac Notation:\n",
       "1/√2|00⟩ + 1/√2|01⟩"
      ],
      "text/plain": [
       "<IPython.core.display.Latex object>"
      ]
     },
     "execution_count": 15,
     "metadata": {},
     "output_type": "execute_result"
    }
   ],
   "source": [
    "sv_b2 = (np.kron(sv_0, sv_0) + np.kron(sv_0, sv_1)) / np.sqrt(2)\n",
    "array_to_dirac_and_matrix_latex(sv_b2)"
   ]
  },
  {
   "cell_type": "markdown",
   "id": "e966308c",
   "metadata": {},
   "source": [
    "Añadimos una puerta CNOT, donde el qubit de control es el primer qubit, y el qubit objetivo es el segundo:"
   ]
  },
  {
   "cell_type": "code",
   "execution_count": 16,
   "id": "1d3fd8ed",
   "metadata": {},
   "outputs": [
    {
     "data": {
      "text/latex": [
       "Matrix representation\n",
       "\\begin{bmatrix}\n",
       "1/√2\\\\\n",
       "0.0\\\\\n",
       "0.0\\\\\n",
       "1/√2\n",
       "\\end{bmatrix}\n",
       "Dirac Notation:\n",
       "1/√2|00⟩ + 1/√2|11⟩"
      ],
      "text/plain": [
       "<IPython.core.display.Latex object>"
      ]
     },
     "execution_count": 16,
     "metadata": {},
     "output_type": "execute_result"
    }
   ],
   "source": [
    "sv_b2 = (np.kron(sv_0, sv_0) + np.kron(sv_1, sv_1)) / np.sqrt(2)\n",
    "array_to_dirac_and_matrix_latex(sv_b2)"
   ]
  },
  {
   "cell_type": "markdown",
   "id": "c88cfea5",
   "metadata": {},
   "source": [
    "Finalmente, añadimos una puerta Pauli-Z en el qubit 0 para pasar de $|+\\rangle$ a $|-\\rangle$."
   ]
  },
  {
   "cell_type": "code",
   "execution_count": 17,
   "id": "05fed3ec",
   "metadata": {},
   "outputs": [
    {
     "data": {
      "text/latex": [
       "Matrix representation\n",
       "\\begin{bmatrix}\n",
       "1/√2\\\\\n",
       "0.0\\\\\n",
       "0.0\\\\\n",
       "-1/√2\n",
       "\\end{bmatrix}\n",
       "Dirac Notation:\n",
       "1/√2|00⟩ + -1/√2|11⟩"
      ],
      "text/plain": [
       "<IPython.core.display.Latex object>"
      ]
     },
     "execution_count": 17,
     "metadata": {},
     "output_type": "execute_result"
    }
   ],
   "source": [
    "sv_b2 = (np.kron(sv_0, sv_0) - np.kron(sv_1, sv_1)) / np.sqrt(2)\n",
    "array_to_dirac_and_matrix_latex(sv_b2)"
   ]
  },
  {
   "cell_type": "markdown",
   "id": "ee224f0e-8c43-43c1-9a6d-a56d6c0f7e75",
   "metadata": {
    "tags": []
   },
   "source": [
    "## Estado de Bell $|\\Psi^+\\rangle$\n",
    "\n",
    "El objetivo es llegar al estado \n",
    "$|\\Psi^+\\rangle = \\frac{1}{\\sqrt{2}}(|01\\rangle + |10\\rangle)$ partiendo del estado base $|00\\rangle$"
   ]
  },
  {
   "cell_type": "markdown",
   "id": "7a485f26-e3f0-4b5c-87fb-9a7b3c8b06a1",
   "metadata": {
    "tags": []
   },
   "source": [
    "### Desarrollo usando notación de Dirac\n",
    "\n",
    "1. Partimos de dos qubits $|A\\rangle$ y $|B\\rangle$ inicializados a $|0\\rangle$, lo cual también ilustraremos como: $|0\\rangle_A$ y $|0\\rangle_B$\n",
    "1. Aplicamos una puerta Pauli X (X) sobre $|0\\rangle_B$ tal que: $\\langle X|B\\rangle$ Equivalente a $|1\\rangle_B$\n",
    "1. En paralelo aplicamos una puerta Hadamard (H) sobre $|0\\rangle_A$ tal que: $\\langle H|A\\rangle$ Equivalente a $\\frac{1}{\\sqrt 2}(|0\\rangle_A + |1\\rangle_A)$\n",
    "1. Puesto que tenemos 2 qubits en nuestro sistema, debemos representarlos como el producto tensorial: $\\langle H|A\\rangle \\otimes \\langle X|B\\rangle$ Equivalente a $\\frac{1}{\\sqrt 2}(|01\\rangle + |11\\rangle)$\n",
    "1. Por último, necesitamos realizar la operación CNOT en $|B\\rangle$ controlado por $|A\\rangle$, por lo que tendríamos: $ \\langle \\text{CNOT} | (\\langle H|A\\rangle \\otimes \\langle X|B\\rangle)\\rangle$ Equivalente a $\\frac{1}{\\sqrt 2}(|01\\rangle + |10\\rangle)$ "
   ]
  },
  {
   "cell_type": "markdown",
   "id": "56d00afc-d95a-4f83-9ba7-76b437cddd2e",
   "metadata": {
    "tags": []
   },
   "source": [
    "### Desarrollo usando notación matricial\n",
    "\n",
    "\n",
    "1. Definimos los qubits $|0\\rangle_A = |0\\rangle_B = \\begin{bmatrix}\n",
    "1\\\\\n",
    "0\n",
    "\\end{bmatrix}$, la puerta Hadamard como: $H=\\frac{1}{\\sqrt{2}}\\begin{bmatrix}\n",
    "1 & 1 \\\\\n",
    "1 & -1\n",
    "\\end{bmatrix}$, la puerta CNOT como: $\\text{CNOT}=\\begin{bmatrix}\n",
    "1 & 0 & 0 & 0 \\\\\n",
    "0 & 1 & 0 & 0 \\\\\n",
    "0 & 0 & 0 & 1 \\\\\n",
    "0 & 0 & 1 & 0\n",
    "\\end{bmatrix}$  y la puerta X (Pauli X) como: $X = \\begin{bmatrix}\n",
    "0 & 1 \\\\\n",
    "1 & 0\n",
    "\\end{bmatrix}$\n",
    "1. Aplicamos la puerta X sobre $|B\\rangle$ de tal manera que:$\n",
    "\\begin{bmatrix}\n",
    "0 & 1 \\\\\n",
    "1 & 0\n",
    "\\end{bmatrix}\n",
    "\\begin{bmatrix}\n",
    "1\\\\\n",
    "0\n",
    "\\end{bmatrix} = \\begin{bmatrix}\n",
    "0\\\\\n",
    "1\n",
    "\\end{bmatrix} $\n",
    "1. Aplicamos la puerta Hadamard sobre $|A\\rangle$ de tal manera que:$\\frac{1}{\\sqrt{2}}\\begin{bmatrix}\n",
    "1 & 1 \\\\\n",
    "1 & -1\n",
    "\\end{bmatrix} \n",
    "\\begin{bmatrix}\n",
    "1\\\\\n",
    "0\n",
    "\\end{bmatrix} = \\frac{1}{\\sqrt{2}} \\begin{bmatrix}\n",
    "1\\\\\n",
    "1\n",
    "\\end{bmatrix} $\n",
    "1. Calculamos el estado del sistema considerando también $|B\\rangle$ en forma de producto tensorial:\n",
    "$\n",
    "\\frac{1}{\\sqrt{2}} \\begin{bmatrix}\n",
    "1\\\\\n",
    "1\n",
    "\\end{bmatrix} \\otimes  \\begin{bmatrix}\n",
    "0\\\\\n",
    "1\n",
    "\\end{bmatrix} = \\frac{1}{\\sqrt{2}} \\begin{bmatrix}\n",
    "0\\\\\n",
    "1\\\\\n",
    "0\\\\\n",
    "1\n",
    "\\end{bmatrix}\n",
    "$\n",
    "1. Por último, aplicamos la puerta CNOT entre ambos qubits:\n",
    "$\n",
    "\\frac{1}{\\sqrt{2}} \\begin{bmatrix}\n",
    "1 & 0 & 0 & 0 \\\\\n",
    "0 & 1 & 0 & 0 \\\\\n",
    "0 & 0 & 0 & 1 \\\\\n",
    "0 & 0 & 1 & 0\n",
    "\\end{bmatrix}\n",
    "\\begin{bmatrix}\n",
    "0\\\\\n",
    "1\\\\\n",
    "0\\\\\n",
    "1\n",
    "\\end{bmatrix} =  \\frac{1}{\\sqrt{2}} \\begin{bmatrix}\n",
    "0\\\\\n",
    "1\\\\\n",
    "1\\\\\n",
    "0\n",
    "\\end{bmatrix}\n",
    "$, que se puede comprobar corresponde a la representación matricial del estado buscado."
   ]
  },
  {
   "cell_type": "markdown",
   "id": "fa05f7b8-e3ff-4cf2-99da-6b3953563127",
   "metadata": {},
   "source": [
    "Aprovechando las facilidades de Qiskit, el mismo circuito se representaría tal que:"
   ]
  },
  {
   "cell_type": "code",
   "execution_count": 24,
   "id": "85bc2e38-2caf-40c8-bb2d-bbaf4b28fe94",
   "metadata": {
    "tags": []
   },
   "outputs": [
    {
     "data": {
      "image/png": "[encoded data removed]",
      "text/plain": [
       "<Figure size 287.294x284.278 with 1 Axes>"
      ]
     },
     "execution_count": 24,
     "metadata": {},
     "output_type": "execute_result"
    }
   ],
   "source": [
    "qreg_q = QuantumRegister(2, 'q')\n",
    "creg_c = ClassicalRegister(1, 'c')\n",
    "circuit = QuantumCircuit(qreg_q, creg_c)\n",
    "\n",
    "circuit.h(qreg_q[0])\n",
    "circuit.x(qreg_q[1])\n",
    "circuit.cx(qreg_q[0], qreg_q[1])\n",
    "\n",
    "circuit.draw()"
   ]
  },
  {
   "cell_type": "markdown",
   "id": "c2794686-f697-4226-a54d-866726e606a3",
   "metadata": {},
   "source": [
    "### Desarrollo algorítmico"
   ]
  },
  {
   "cell_type": "code",
   "execution_count": 19,
   "id": "cf2b53a6",
   "metadata": {},
   "outputs": [
    {
     "data": {
      "text/latex": [
       "Matrix representation\n",
       "\\begin{bmatrix}\n",
       "1\\\\\n",
       "0\\\\\n",
       "0\\\\\n",
       "0\n",
       "\\end{bmatrix}\n",
       "Dirac Notation:\n",
       "1.0|00⟩"
      ],
      "text/plain": [
       "<IPython.core.display.Latex object>"
      ]
     },
     "execution_count": 19,
     "metadata": {},
     "output_type": "execute_result"
    }
   ],
   "source": [
    "sv_b3 = np.kron(sv_0, sv_0)\n",
    "array_to_dirac_and_matrix_latex(sv_b3)"
   ]
  },
  {
   "cell_type": "markdown",
   "id": "efaebc3b",
   "metadata": {},
   "source": [
    "Añadimos una puerta Pauli-X al primer qubit:"
   ]
  },
  {
   "cell_type": "code",
   "execution_count": 20,
   "id": "168c6089",
   "metadata": {},
   "outputs": [
    {
     "data": {
      "text/latex": [
       "Matrix representation\n",
       "\\begin{bmatrix}\n",
       "0\\\\\n",
       "1\\\\\n",
       "0\\\\\n",
       "0\n",
       "\\end{bmatrix}\n",
       "Dirac Notation:\n",
       "1.0|01⟩"
      ],
      "text/plain": [
       "<IPython.core.display.Latex object>"
      ]
     },
     "execution_count": 20,
     "metadata": {},
     "output_type": "execute_result"
    }
   ],
   "source": [
    "sv_b3 = np.kron(sv_0, sv_1)\n",
    "array_to_dirac_and_matrix_latex(sv_b3)"
   ]
  },
  {
   "cell_type": "markdown",
   "id": "b43a8290",
   "metadata": {},
   "source": [
    "Añadimos una puerta Hadamard al primer qubit:"
   ]
  },
  {
   "cell_type": "code",
   "execution_count": 21,
   "id": "ac9c2d68",
   "metadata": {},
   "outputs": [
    {
     "data": {
      "text/latex": [
       "Matrix representation\n",
       "\\begin{bmatrix}\n",
       "1/√2\\\\\n",
       "-1/√2\\\\\n",
       "0.0\\\\\n",
       "0.0\n",
       "\\end{bmatrix}\n",
       "Dirac Notation:\n",
       "1/√2|00⟩ + -1/√2|01⟩"
      ],
      "text/plain": [
       "<IPython.core.display.Latex object>"
      ]
     },
     "execution_count": 21,
     "metadata": {},
     "output_type": "execute_result"
    }
   ],
   "source": [
    "sv_b3 = (np.kron(sv_0, sv_0) - np.kron(sv_0, sv_1)) / np.sqrt(2)\n",
    "array_to_dirac_and_matrix_latex(sv_b3)"
   ]
  },
  {
   "cell_type": "markdown",
   "id": "5320e519",
   "metadata": {},
   "source": [
    "Añadimos una puerta CNOT, donde el qubit de control es el primer qubit, y el qubit objetivo es el segundo:"
   ]
  },
  {
   "cell_type": "code",
   "execution_count": 22,
   "id": "4d269203",
   "metadata": {},
   "outputs": [
    {
     "data": {
      "text/latex": [
       "Matrix representation\n",
       "\\begin{bmatrix}\n",
       "0.0\\\\\n",
       "1/√2\\\\\n",
       "-1/√2\\\\\n",
       "0.0\n",
       "\\end{bmatrix}\n",
       "Dirac Notation:\n",
       "1/√2|01⟩ + -1/√2|10⟩"
      ],
      "text/plain": [
       "<IPython.core.display.Latex object>"
      ]
     },
     "execution_count": 22,
     "metadata": {},
     "output_type": "execute_result"
    }
   ],
   "source": [
    "sv_b3 = (np.kron(sv_0, sv_1) - np.kron(sv_1, sv_0)) / np.sqrt(2)\n",
    "array_to_dirac_and_matrix_latex(sv_b3)"
   ]
  },
  {
   "cell_type": "markdown",
   "id": "0f25da1f",
   "metadata": {},
   "source": [
    "Finalmente, añadimos una puerta Pauli-Z en el qubit 0 para pasar de $|+\\rangle$ a $|-\\rangle$."
   ]
  },
  {
   "cell_type": "code",
   "execution_count": 23,
   "id": "d018b374",
   "metadata": {},
   "outputs": [
    {
     "data": {
      "text/latex": [
       "Matrix representation\n",
       "\\begin{bmatrix}\n",
       "0.0\\\\\n",
       "1/√2\\\\\n",
       "1/√2\\\\\n",
       "0.0\n",
       "\\end{bmatrix}\n",
       "Dirac Notation:\n",
       "1/√2|01⟩ + 1/√2|10⟩"
      ],
      "text/plain": [
       "<IPython.core.display.Latex object>"
      ]
     },
     "execution_count": 23,
     "metadata": {},
     "output_type": "execute_result"
    }
   ],
   "source": [
    "sv_b3 = (np.kron(sv_0, sv_1) + np.kron(sv_1, sv_0)) / np.sqrt(2)\n",
    "array_to_dirac_and_matrix_latex(sv_b3)"
   ]
  },
  {
   "cell_type": "markdown",
   "id": "3cd12344-99e6-40fa-ada2-5c18ed0f7bd8",
   "metadata": {},
   "source": [
    "## Estado de Bell $|\\Psi^-\\rangle$\n",
    "\n",
    "El objetivo es llegar al estado \n",
    "$|\\Psi^-\\rangle = \\frac{1}{\\sqrt{2}}(|01\\rangle - |10\\rangle)$ partiendo del estado base $|00\\rangle$"
   ]
  },
  {
   "cell_type": "markdown",
   "id": "bd368598-9f0f-46ba-9dc6-ccdbd16b7967",
   "metadata": {},
   "source": [
    "### Desarrollo usando notación de Dirac\n",
    "\n",
    "1. Partimos de dos qubits $|A\\rangle$ y $|B\\rangle$ inicializados a $|0\\rangle$, lo cual también ilustraremos como: $|0\\rangle_A$ y $|0\\rangle_B$\n",
    "1. Aplicamos una puerta Pauli X (X) sobre $|0\\rangle_B$ tal que: $\\langle X|B\\rangle$ Equivalente a $|1\\rangle_B$\n",
    "1. Aplicamos una puerta Pauli X (X) sobre $|0\\rangle_A$ tal que: $\\langle X|A\\rangle$ Equivalente a $|1\\rangle_A$\n",
    "1. A continuación aplicamos una puerta Hadamard (H) en $|A\\rangle$ tal que: $\\langle H|X|A\\rangle$ Equivalente a $\\frac{1}{\\sqrt 2}(|0\\rangle_A - |1\\rangle_A)$\n",
    "1. Puesto que tenemos 2 qubits en nuestro sistema, debemos representarlos como el producto tensorial: $\\langle H|X|A\\rangle \\otimes \\langle X|B\\rangle$ Equivalente a $\\frac{1}{\\sqrt 2}(|01\\rangle - |11\\rangle)$\n",
    "1. Por último, necesitamos realizar la operación CNOT en $|B\\rangle$ controlado por $|A\\rangle$, por lo que tendríamos: $ \\langle \\text{CNOT} | (\\langle H|X|A\\rangle \\otimes \\langle X|B\\rangle)\\rangle$ Equivalente a $\\frac{1}{\\sqrt 2}(|01\\rangle - |10\\rangle)$ "
   ]
  },
  {
   "cell_type": "markdown",
   "id": "82e9b23c-23c7-445a-8312-3e31fab0b3f9",
   "metadata": {
    "tags": []
   },
   "source": [
    "### Desarrollo usando notación matricial\n",
    "\n",
    "\n",
    "1. Definimos los qubits $|0\\rangle_A = |0\\rangle_B = \\begin{bmatrix}\n",
    "1\\\\\n",
    "0\n",
    "\\end{bmatrix}$, la puerta Hadamard como: $H=\\frac{1}{\\sqrt{2}}\\begin{bmatrix}\n",
    "1 & 1 \\\\\n",
    "1 & -1\n",
    "\\end{bmatrix}$, la puerta CNOT como: $\\text{CNOT}=\\begin{bmatrix}\n",
    "1 & 0 & 0 & 0 \\\\\n",
    "0 & 1 & 0 & 0 \\\\\n",
    "0 & 0 & 0 & 1 \\\\\n",
    "0 & 0 & 1 & 0\n",
    "\\end{bmatrix}$  y la puerta X (Pauli X) como: $X = \\begin{bmatrix}\n",
    "0 & 1 \\\\\n",
    "1 & 0\n",
    "\\end{bmatrix}$\n",
    "1. Aplicamos la puerta X sobre $|B\\rangle$ de tal manera que:$\n",
    "\\begin{bmatrix}\n",
    "0 & 1 \\\\\n",
    "1 & 0\n",
    "\\end{bmatrix}\n",
    "\\begin{bmatrix}\n",
    "1\\\\\n",
    "0\n",
    "\\end{bmatrix} = \\begin{bmatrix}\n",
    "0\\\\\n",
    "1\n",
    "\\end{bmatrix} $\n",
    "1. Aplicamos las puertas X y Hadamard, en ese orden, sobre $|A\\rangle$ de tal manera que:$\\frac{1}{\\sqrt{2}}\\begin{bmatrix}\n",
    "1 & 1 \\\\\n",
    "1 & -1\n",
    "\\end{bmatrix}\n",
    "\\begin{bmatrix}\n",
    "0 & 1 \\\\\n",
    "1 & 0\n",
    "\\end{bmatrix}\n",
    "\\begin{bmatrix}\n",
    "1\\\\\n",
    "0\n",
    "\\end{bmatrix} = \\frac{1}{\\sqrt{2}} \\begin{bmatrix}\n",
    "1\\\\\n",
    "-1\n",
    "\\end{bmatrix} $\n",
    "1. Calculamos el estado del sistema considerando también $|B\\rangle$ en forma de producto tensorial:\n",
    "$\n",
    "\\frac{1}{\\sqrt{2}} \\begin{bmatrix}\n",
    "1\\\\\n",
    "-1\n",
    "\\end{bmatrix} \\otimes  \\begin{bmatrix}\n",
    "0\\\\\n",
    "1\n",
    "\\end{bmatrix} = \\frac{1}{\\sqrt{2}} \\begin{bmatrix}\n",
    "0\\\\\n",
    "1\\\\\n",
    "0\\\\\n",
    "-1\n",
    "\\end{bmatrix}\n",
    "$\n",
    "1. Por último, aplicamos la puerta CNOT entre ambos qubits:\n",
    "$\n",
    "\\frac{1}{\\sqrt{2}} \\begin{bmatrix}\n",
    "1 & 0 & 0 & 0 \\\\\n",
    "0 & 1 & 0 & 0 \\\\\n",
    "0 & 0 & 0 & 1 \\\\\n",
    "0 & 0 & 1 & 0\n",
    "\\end{bmatrix}\n",
    "\\begin{bmatrix}\n",
    "0\\\\\n",
    "1\\\\\n",
    "0\\\\\n",
    "-1\n",
    "\\end{bmatrix} =  \\frac{1}{\\sqrt{2}} \\begin{bmatrix}\n",
    "0\\\\\n",
    "1\\\\\n",
    "-1\\\\\n",
    "0\n",
    "\\end{bmatrix}\n",
    "$, que se puede comprobar corresponde a la representación matricial del estado buscado."
   ]
  },
  {
   "cell_type": "markdown",
   "id": "e33b2de0-4754-434a-b451-13e62827ede6",
   "metadata": {},
   "source": [
    "Aprovechando las facilidades de Qiskit, el mismo circuito se representaría tal que:"
   ]
  },
  {
   "cell_type": "code",
   "execution_count": 29,
   "id": "e9f227e6-f274-431c-87b0-e6de6ea2ad45",
   "metadata": {
    "tags": []
   },
   "outputs": [
    {
     "data": {
      "image/png": "[encoded data removed]",
      "text/plain": [
       "<Figure size 370.906x284.278 with 1 Axes>"
      ]
     },
     "execution_count": 29,
     "metadata": {},
     "output_type": "execute_result"
    }
   ],
   "source": [
    "qreg_q = QuantumRegister(2, 'q')\n",
    "creg_c = ClassicalRegister(1, 'c')\n",
    "circuit = QuantumCircuit(qreg_q, creg_c)\n",
    "\n",
    "circuit.x(qreg_q[0])\n",
    "circuit.h(qreg_q[0])\n",
    "circuit.x(qreg_q[1])\n",
    "circuit.cx(qreg_q[0], qreg_q[1])\n",
    "\n",
    "circuit.draw()"
   ]
  },
  {
   "cell_type": "markdown",
   "id": "98c14294-f748-4aa3-909d-14162e2282e8",
   "metadata": {},
   "source": [
    "### Desarrollo algorítmico"
   ]
  },
  {
   "cell_type": "code",
   "execution_count": 25,
   "id": "1324948c",
   "metadata": {},
   "outputs": [
    {
     "data": {
      "text/latex": [
       "Matrix representation\n",
       "\\begin{bmatrix}\n",
       "1\\\\\n",
       "0\\\\\n",
       "0\\\\\n",
       "0\n",
       "\\end{bmatrix}\n",
       "Dirac Notation:\n",
       "1.0|00⟩"
      ],
      "text/plain": [
       "<IPython.core.display.Latex object>"
      ]
     },
     "execution_count": 25,
     "metadata": {},
     "output_type": "execute_result"
    }
   ],
   "source": [
    "sv_b4 = np.kron(sv_0, sv_0)\n",
    "array_to_dirac_and_matrix_latex(sv_b4)"
   ]
  },
  {
   "cell_type": "markdown",
   "id": "181ad306",
   "metadata": {},
   "source": [
    "Añadimos una puerta Pauli-X al primer qubit:"
   ]
  },
  {
   "cell_type": "code",
   "execution_count": 26,
   "id": "75320556",
   "metadata": {},
   "outputs": [
    {
     "data": {
      "text/latex": [
       "Matrix representation\n",
       "\\begin{bmatrix}\n",
       "0\\\\\n",
       "1\\\\\n",
       "0\\\\\n",
       "0\n",
       "\\end{bmatrix}\n",
       "Dirac Notation:\n",
       "1.0|01⟩"
      ],
      "text/plain": [
       "<IPython.core.display.Latex object>"
      ]
     },
     "execution_count": 26,
     "metadata": {},
     "output_type": "execute_result"
    }
   ],
   "source": [
    "sv_b4 = np.kron(sv_0, sv_1)\n",
    "array_to_dirac_and_matrix_latex(sv_b4)"
   ]
  },
  {
   "cell_type": "markdown",
   "id": "2ae65f95",
   "metadata": {},
   "source": [
    "Añadimos una puerta Hadamard al primer qubit:"
   ]
  },
  {
   "cell_type": "code",
   "execution_count": 27,
   "id": "394bd472",
   "metadata": {},
   "outputs": [
    {
     "data": {
      "text/latex": [
       "Matrix representation\n",
       "\\begin{bmatrix}\n",
       "1/√2\\\\\n",
       "-1/√2\\\\\n",
       "0.0\\\\\n",
       "0.0\n",
       "\\end{bmatrix}\n",
       "Dirac Notation:\n",
       "1/√2|00⟩ + -1/√2|01⟩"
      ],
      "text/plain": [
       "<IPython.core.display.Latex object>"
      ]
     },
     "execution_count": 27,
     "metadata": {},
     "output_type": "execute_result"
    }
   ],
   "source": [
    "sv_b4 = (np.kron(sv_0, sv_0) - np.kron(sv_0, sv_1)) / np.sqrt(2)\n",
    "array_to_dirac_and_matrix_latex(sv_b4)"
   ]
  },
  {
   "cell_type": "markdown",
   "id": "1df94141",
   "metadata": {},
   "source": [
    "Añadimos una puerta CNOT, donde el qubit de control es el primer qubit, y el qubit objetivo es el segundo:"
   ]
  },
  {
   "cell_type": "code",
   "execution_count": 28,
   "id": "213bcab3",
   "metadata": {},
   "outputs": [
    {
     "data": {
      "text/latex": [
       "Matrix representation\n",
       "\\begin{bmatrix}\n",
       "0.0\\\\\n",
       "1/√2\\\\\n",
       "-1/√2\\\\\n",
       "0.0\n",
       "\\end{bmatrix}\n",
       "Dirac Notation:\n",
       "1/√2|01⟩ + -1/√2|10⟩"
      ],
      "text/plain": [
       "<IPython.core.display.Latex object>"
      ]
     },
     "execution_count": 28,
     "metadata": {},
     "output_type": "execute_result"
    }
   ],
   "source": [
    "sv_b3 = (np.kron(sv_0, sv_1) - np.kron(sv_1, sv_0)) / np.sqrt(2)\n",
    "array_to_dirac_and_matrix_latex(sv_b3)"
   ]
  },
  {
   "cell_type": "markdown",
   "id": "7f413ecc",
   "metadata": {},
   "source": [
    "## Implementaciones con Qiskit\n",
    "A continuación, se implementan los circuitos descritos anteriormente y se verifican haciendo uso de Qiskit."
   ]
  },
  {
   "cell_type": "markdown",
   "id": "240b4f1d",
   "metadata": {},
   "source": [
    "### Circuito y verificación para $|\\Phi^+\\rangle = \\frac{1}{\\sqrt{2}}(|00\\rangle + |11\\rangle)$"
   ]
  },
  {
   "cell_type": "code",
   "execution_count": 53,
   "id": "1cab14ff",
   "metadata": {},
   "outputs": [
    {
     "data": {
      "text/latex": [
       "$$|\\Phi^+\\rangle = \\frac{\\sqrt{2}}{2} |00\\rangle+\\frac{\\sqrt{2}}{2} |11\\rangle$$"
      ],
      "text/plain": [
       "<IPython.core.display.Latex object>"
      ]
     },
     "execution_count": 53,
     "metadata": {},
     "output_type": "execute_result"
    }
   ],
   "source": [
    "qc_b1 = QuantumCircuit(2, 2)\n",
    "qc_b1.h(0)\n",
    "qc_b1.cx(0, 1)\n",
    "\n",
    "sv = backend.run(qc_b1).result().get_statevector()\n",
    "sv.draw(output='latex', prefix = \"|\\Phi^+\\\\rangle = \")"
   ]
  },
  {
   "cell_type": "code",
   "execution_count": 52,
   "id": "ce857eee-edb6-42e7-aa5a-4d8c86214024",
   "metadata": {
    "tags": []
   },
   "outputs": [
    {
     "data": {
      "image/png": "[encoded data removed]",
      "text/plain": [
       "<Figure size 287.294x284.278 with 1 Axes>"
      ]
     },
     "execution_count": 52,
     "metadata": {},
     "output_type": "execute_result"
    }
   ],
   "source": [
    "qc_b1.draw()"
   ]
  },
  {
   "cell_type": "markdown",
   "id": "0159f12f",
   "metadata": {},
   "source": [
    "### Circuito y verificación para $|\\Phi^-\\rangle = \\frac{1}{\\sqrt{2}}(|00\\rangle - |11\\rangle)$"
   ]
  },
  {
   "cell_type": "code",
   "execution_count": 54,
   "id": "fefbe557",
   "metadata": {},
   "outputs": [
    {
     "data": {
      "text/latex": [
       "$$|\\Phi^-\\rangle = \\frac{\\sqrt{2}}{2} |00\\rangle- \\frac{\\sqrt{2}}{2} |11\\rangle$$"
      ],
      "text/plain": [
       "<IPython.core.display.Latex object>"
      ]
     },
     "execution_count": 54,
     "metadata": {},
     "output_type": "execute_result"
    }
   ],
   "source": [
    "qc_b2 = QuantumCircuit(2, 2)\n",
    "qc_b2.h(0)\n",
    "qc_b2.cx(0, 1)\n",
    "qc_b2.z(0)\n",
    "\n",
    "sv = backend.run(qc_b2).result().get_statevector()\n",
    "sv.draw(output='latex', prefix = \"|\\Phi^-\\\\rangle = \")"
   ]
  },
  {
   "cell_type": "code",
   "execution_count": 51,
   "id": "9c337616-e90a-4c7d-94c5-1dbbcf7820b1",
   "metadata": {
    "tags": []
   },
   "outputs": [
    {
     "data": {
      "image/png": "[encoded data removed]",
      "text/plain": [
       "<Figure size 370.906x284.278 with 1 Axes>"
      ]
     },
     "execution_count": 51,
     "metadata": {},
     "output_type": "execute_result"
    }
   ],
   "source": [
    "qc_b2.draw()"
   ]
  },
  {
   "cell_type": "markdown",
   "id": "3e6e2893",
   "metadata": {},
   "source": [
    "### Circuito y verificación para $|\\Psi^+\\rangle = \\frac{1}{\\sqrt{2}}(|01\\rangle + |10\\rangle)$"
   ]
  },
  {
   "cell_type": "code",
   "execution_count": 47,
   "id": "4d219869",
   "metadata": {},
   "outputs": [
    {
     "data": {
      "text/latex": [
       "$$|\\Psi^+\\rangle = \\frac{\\sqrt{2}}{2} |01\\rangle+\\frac{\\sqrt{2}}{2} |10\\rangle$$"
      ],
      "text/plain": [
       "<IPython.core.display.Latex object>"
      ]
     },
     "execution_count": 47,
     "metadata": {},
     "output_type": "execute_result"
    }
   ],
   "source": [
    "qc_b3 = QuantumCircuit(2, 2)\n",
    "qc_b3.h(0)\n",
    "qc_b3.cx(0, 1)\n",
    "qc_b3.x(0)\n",
    "\n",
    "sv = backend.run(qc_b3).result().get_statevector()\n",
    "sv.draw(output='latex', prefix = \"|\\Psi^+\\\\rangle = \")"
   ]
  },
  {
   "cell_type": "code",
   "execution_count": 50,
   "id": "712e900e-c2b8-4f89-88c0-9a0c23d8b638",
   "metadata": {
    "tags": []
   },
   "outputs": [
    {
     "data": {
      "image/png": "[encoded data removed]",
      "text/plain": [
       "<Figure size 370.906x284.278 with 1 Axes>"
      ]
     },
     "execution_count": 50,
     "metadata": {},
     "output_type": "execute_result"
    }
   ],
   "source": [
    "qc_b3.draw()"
   ]
  },
  {
   "cell_type": "markdown",
   "id": "3bdd8725",
   "metadata": {},
   "source": [
    "### Circuito y verificación para $|\\Psi^-\\rangle = \\frac{1}{\\sqrt{2}}(|01\\rangle - |10\\rangle)$"
   ]
  },
  {
   "cell_type": "code",
   "execution_count": 48,
   "id": "c5334766",
   "metadata": {
    "tags": []
   },
   "outputs": [
    {
     "data": {
      "text/latex": [
       "$$|\\Psi^-\\rangle = \\frac{\\sqrt{2}}{2} |01\\rangle- \\frac{\\sqrt{2}}{2} |10\\rangle$$"
      ],
      "text/plain": [
       "<IPython.core.display.Latex object>"
      ]
     },
     "execution_count": 48,
     "metadata": {},
     "output_type": "execute_result"
    }
   ],
   "source": [
    "qc_b4 = QuantumCircuit(2, 2)\n",
    "qc_b4.h(0)\n",
    "qc_b4.cx(0, 1)\n",
    "qc_b4.x(0)\n",
    "qc_b4.z(1)\n",
    "\n",
    "sv = backend.run(qc_b4).result().get_statevector()\n",
    "sv.draw(output='latex', prefix = \"|\\Psi^-\\\\rangle = \")"
   ]
  },
  {
   "cell_type": "code",
   "execution_count": 49,
   "id": "c45a7a95-8daa-449a-a899-6e9ad1909a74",
   "metadata": {
    "tags": []
   },
   "outputs": [
    {
     "data": {
      "image/png": "[encoded data removed]",
      "text/plain": [
       "<Figure size 370.906x284.278 with 1 Axes>"
      ]
     },
     "execution_count": 49,
     "metadata": {},
     "output_type": "execute_result"
    }
   ],
   "source": [
    "qc_b4.draw()"
   ]
  },
  {
   "cell_type": "markdown",
   "id": "0036bb2d",
   "metadata": {},
   "source": [
    "# Ejercicio 2\n",
    "Implementar los circuitos de cuatro cúbits que suman al registro cuántico los valores 1, 2, 3, 4, 5, 6, 7 y 8 y verificar que funcionan correctamente. Utilizar QISKit Quantum lab."
   ]
  },
  {
   "cell_type": "code",
   "execution_count": 34,
   "id": "6c60c88c",
   "metadata": {},
   "outputs": [],
   "source": [
    "def sv_latex_from_qc(qc, backend):\n",
    "    sv = backend.run(qc).result().get_statevector()\n",
    "    return sv.draw(output='latex')\n"
   ]
  },
  {
   "cell_type": "markdown",
   "id": "afbee107",
   "metadata": {},
   "source": [
    "Creamos un circuito cuántico de 4 qubits"
   ]
  },
  {
   "cell_type": "code",
   "execution_count": 35,
   "id": "b460d522",
   "metadata": {},
   "outputs": [
    {
     "data": {
      "text/latex": [
       "$$ |0001\\rangle$$"
      ],
      "text/plain": [
       "<IPython.core.display.Latex object>"
      ]
     },
     "execution_count": 35,
     "metadata": {},
     "output_type": "execute_result"
    }
   ],
   "source": [
    "qc_ej2 = QuantumCircuit(4, 4)\n",
    "qc_ej2.x(0)\n",
    "sv_latex_from_qc(qc_ej2, backend)"
   ]
  },
  {
   "cell_type": "code",
   "execution_count": 36,
   "id": "03ca113d",
   "metadata": {},
   "outputs": [
    {
     "data": {
      "text/latex": [
       "$$ |0010\\rangle$$"
      ],
      "text/plain": [
       "<IPython.core.display.Latex object>"
      ]
     },
     "execution_count": 36,
     "metadata": {},
     "output_type": "execute_result"
    }
   ],
   "source": [
    "qc_ej2 = QuantumCircuit(4, 4)\n",
    "qc_ej2.x(1)\n",
    "sv_latex_from_qc(qc_ej2, backend)"
   ]
  },
  {
   "cell_type": "code",
   "execution_count": 56,
   "id": "0baa828e",
   "metadata": {},
   "outputs": [
    {
     "data": {
      "text/latex": [
       "$$ |0011\\rangle$$"
      ],
      "text/plain": [
       "<IPython.core.display.Latex object>"
      ]
     },
     "execution_count": 56,
     "metadata": {},
     "output_type": "execute_result"
    }
   ],
   "source": [
    "qc_ej2 = QuantumCircuit(4, 4)\n",
    "qc_ej2.x(0)\n",
    "qc_ej2.x(1)\n",
    "sv_latex_from_qc(qc_ej2, backend)"
   ]
  },
  {
   "cell_type": "code",
   "execution_count": 38,
   "id": "a13afbeb",
   "metadata": {},
   "outputs": [
    {
     "data": {
      "text/latex": [
       "$$ |0100\\rangle$$"
      ],
      "text/plain": [
       "<IPython.core.display.Latex object>"
      ]
     },
     "execution_count": 38,
     "metadata": {},
     "output_type": "execute_result"
    }
   ],
   "source": [
    "qc_ej2 = QuantumCircuit(4, 4)\n",
    "qc_ej2.x(2)\n",
    "sv_latex_from_qc(qc_ej2, backend)"
   ]
  },
  {
   "cell_type": "code",
   "execution_count": 39,
   "id": "896f406d",
   "metadata": {},
   "outputs": [
    {
     "data": {
      "text/latex": [
       "$$ |0101\\rangle$$"
      ],
      "text/plain": [
       "<IPython.core.display.Latex object>"
      ]
     },
     "execution_count": 39,
     "metadata": {},
     "output_type": "execute_result"
    }
   ],
   "source": [
    "qc_ej2 = QuantumCircuit(4, 4)\n",
    "qc_ej2.x(0)\n",
    "qc_ej2.x(2)\n",
    "sv_latex_from_qc(qc_ej2, backend)"
   ]
  },
  {
   "cell_type": "code",
   "execution_count": 40,
   "id": "a97fbbab",
   "metadata": {},
   "outputs": [
    {
     "data": {
      "text/latex": [
       "$$ |0101\\rangle$$"
      ],
      "text/plain": [
       "<IPython.core.display.Latex object>"
      ]
     },
     "execution_count": 40,
     "metadata": {},
     "output_type": "execute_result"
    }
   ],
   "source": [
    "qc_ej2 = QuantumCircuit(4, 4)\n",
    "qc_ej2.x(0)\n",
    "qc_ej2.x(2)\n",
    "sv_latex_from_qc(qc_ej2, backend)"
   ]
  },
  {
   "cell_type": "code",
   "execution_count": 41,
   "id": "e404de81",
   "metadata": {},
   "outputs": [
    {
     "data": {
      "text/latex": [
       "$$ |0111\\rangle$$"
      ],
      "text/plain": [
       "<IPython.core.display.Latex object>"
      ]
     },
     "execution_count": 41,
     "metadata": {},
     "output_type": "execute_result"
    }
   ],
   "source": [
    "qc_ej2 = QuantumCircuit(4, 4)\n",
    "qc_ej2.x(0)\n",
    "qc_ej2.x(1)\n",
    "qc_ej2.x(2)\n",
    "sv_latex_from_qc(qc_ej2, backend)"
   ]
  },
  {
   "cell_type": "code",
   "execution_count": 42,
   "id": "b1b6dd0d",
   "metadata": {},
   "outputs": [
    {
     "data": {
      "text/latex": [
       "$$ |1000\\rangle$$"
      ],
      "text/plain": [
       "<IPython.core.display.Latex object>"
      ]
     },
     "execution_count": 42,
     "metadata": {},
     "output_type": "execute_result"
    }
   ],
   "source": [
    "qc_ej2 = QuantumCircuit(4, 4)\n",
    "qc_ej2.x(3)\n",
    "sv_latex_from_qc(qc_ej2, backend)"
   ]
  },
  {
   "cell_type": "markdown",
   "id": "fd494c5c-cc55-4ae8-88ea-ce9d45e26002",
   "metadata": {},
   "source": [
    "### <span style=\"color:red;\">JHZ: Mi versión en base a lo del vídeo de complementos formativos </span>"
   ]
  },
  {
   "cell_type": "markdown",
   "id": "29a3fc07-dd24-4de3-a94d-0bbacbf5e924",
   "metadata": {},
   "source": [
    "# Ejercicio 2\n",
    "Implementar los circuitos de cuatro cúbits que suman al registro cuántico los valores 1, 2, 3, 4, 5, 6, 7 y 8 y verificar que funcionan correctamente. Utilizar QISKit Quantum lab."
   ]
  },
  {
   "cell_type": "markdown",
   "id": "7ce6130d-12f6-45c6-b7bf-a614389c0490",
   "metadata": {},
   "source": [
    "Puesto que la generación de circuitos de adición binaria es conceptualmente sencilla de automatizar, en lugar de crear los circuitos de suma pedidos en el enunciado vamos a definir una función que los cree en base a un parámetro (el valor a sumar). Veamos la implementación de esta función:"
   ]
  },
  {
   "cell_type": "markdown",
   "id": "3f004162-d5d2-4a43-9918-c819059f5981",
   "metadata": {},
   "source": [
    "### `circuit_adder` Function:\n",
    "\n",
    "**Purpose:**\n",
    "The `circuit_adder` function is designed to create a quantum circuit to add a number to an existing 4-qubit circuit.\n",
    "\n",
    "**Attributes:**\n",
    "- `num` (int): A number to add to the circuit. It must be between 0 and 8.\n",
    "\n",
    "**Methods:**\n",
    "None\n",
    "\n",
    "**Example Usage:**\n",
    "```python\n",
    "qc_adder_7 = circuit_adder(7)\n",
    "qc_final = qc_already_exist.compose(qc_adder_7) # Concatenate both quantum circuits to add 7 to the already existing qc_already_exist quantum circuit\n"
   ]
  },
  {
   "cell_type": "code",
   "execution_count": 102,
   "id": "75de2f39-9aa3-4a33-8f24-0e1abd9244cf",
   "metadata": {
    "tags": []
   },
   "outputs": [],
   "source": [
    "def circuit_adder (num):\n",
    "    if num<0 or num>8:\n",
    "        return False  ## Lo suyo sería generar una excepción o algo por el estilo\n",
    "    qreg_q = QuantumRegister(4, 'q')\n",
    "    creg_c = ClassicalRegister(1, 'c')\n",
    "    circuit = QuantumCircuit(qreg_q, creg_c)\n",
    "\n",
    "    circuit.barrier()\n",
    "    circuit.append(C3XGate(), [qreg_q[0], qreg_q[1], qreg_q[2], qreg_q[3]])\n",
    "    circuit.ccx(qreg_q[0], qreg_q[1], qreg_q[2])\n",
    "    circuit.cx(qreg_q[0], qreg_q[1])\n",
    "    \n",
    "    qbit_position = 0\n",
    "    for element in reversed(np.binary_repr(num)):\n",
    "        if (element=='1'):\n",
    "            circuit.x(qreg_q[qbit_position])\n",
    "        qbit_position+=1\n",
    "    return circuit"
   ]
  },
  {
   "cell_type": "markdown",
   "id": "d69595eb-8bb4-40f6-97f4-0de757243f4b",
   "metadata": {},
   "source": [
    "Probamos la función generadora de circuitos generando un sumador para el número binario 3"
   ]
  },
  {
   "cell_type": "code",
   "execution_count": 103,
   "id": "ecd6a4b2-6ba8-4504-a377-ccbf47f27697",
   "metadata": {
    "tags": []
   },
   "outputs": [
    {
     "data": {
      "image/png": "[encoded data removed]",
      "text/plain": [
       "<Figure size 538.33x451.5 with 1 Axes>"
      ]
     },
     "execution_count": 103,
     "metadata": {},
     "output_type": "execute_result"
    }
   ],
   "source": [
    "add_3 = circuit_adder(3)\n",
    "add_3.draw()"
   ]
  },
  {
   "cell_type": "markdown",
   "id": "9358693d-fd99-4fe1-b600-9d48dc78eb1b",
   "metadata": {},
   "source": [
    "A continuación, reutilizaremos el circuito anterior (+3) y creamos un circuito cuántico que represente el número 2 para validar que genera un valor equivalente a 5."
   ]
  },
  {
   "cell_type": "code",
   "execution_count": 108,
   "id": "afe6347c-f5c7-4eb4-bc8c-38152e0994b5",
   "metadata": {},
   "outputs": [
    {
     "data": {
      "image/png": "[encoded data removed]",
      "text/plain": [
       "<Figure size 621.941x451.5 with 1 Axes>"
      ]
     },
     "execution_count": 108,
     "metadata": {},
     "output_type": "execute_result"
    }
   ],
   "source": [
    "qc_test_2 = QuantumCircuit(4, 4)\n",
    "qc_test_2.x(1)\n",
    "\n",
    "qc_test_2_plus_3 = qc_test_2.compose(add_3)\n",
    "qc_test_2_plus_3.draw()"
   ]
  },
  {
   "cell_type": "markdown",
   "id": "6a542735-17d1-4b49-ace5-774d659b5a28",
   "metadata": {},
   "source": [
    "Y validamos su resultado:"
   ]
  },
  {
   "cell_type": "code",
   "execution_count": 109,
   "id": "d056d18c-e136-4536-b5a5-30d52ba0969e",
   "metadata": {
    "tags": []
   },
   "outputs": [
    {
     "data": {
      "text/latex": [
       "$$ |0001\\rangle$$"
      ],
      "text/plain": [
       "<IPython.core.display.Latex object>"
      ]
     },
     "execution_count": 109,
     "metadata": {},
     "output_type": "execute_result"
    }
   ],
   "source": [
    "sv_latex_from_qc(qc_test_2_plus_3, backend)"
   ]
  },
  {
   "cell_type": "markdown",
   "id": "83a63ace-68b0-459a-949f-43f8806723eb",
   "metadata": {},
   "source": [
    "### <span style=\"color:red;\">FALLA EL ACARREO </span>"
   ]
  },
  {
   "cell_type": "markdown",
   "id": "4be0ebbc",
   "metadata": {},
   "source": [
    "# Ejercicio 3\n",
    "Implementar en Python el algoritmo de teleportación cuántica para teleportar el estado  del cúbit de Alice al cúbit de Bob. El estado  viene determinado por los ángulos  grados y  grados, de la esfera de Bloch."
   ]
  },
  {
   "cell_type": "code",
   "execution_count": null,
   "id": "b93b0bcd",
   "metadata": {},
   "outputs": [],
   "source": []
  }
 ],
 "metadata": {
  "kernelspec": {
   "display_name": "Python 3 (ipykernel)",
   "language": "python",
   "name": "python3"
  },
  "language_info": {
   "codemirror_mode": {
    "name": "ipython",
    "version": 3
   },
   "file_extension": ".py",
   "mimetype": "text/x-python",
   "name": "python",
   "nbconvert_exporter": "python",
   "pygments_lexer": "ipython3",
   "version": "3.10.8"
  },
  "widgets": {
   "application/vnd.jupyter.widget-state+json": {
    "state": {
     "12488772d74240a5bbdaffc5d5895dab": {
      "model_module": "@jupyter-widgets/controls",
      "model_module_version": "2.0.0",
      "model_name": "HTMLModel",
      "state": {
       "layout": "IPY_MODEL_58ebeba431d04288aeb89f00f7e5caa5",
       "style": "IPY_MODEL_539f2bc25c114cdab86042b5c4c28c09",
       "value": "<h5>Message</h5>"
      }
     },
     "14ddf9bee4094fb293f338a54e15d67d": {
      "model_module": "@jupyter-widgets/base",
      "model_module_version": "2.0.0",
      "model_name": "LayoutModel",
      "state": {
       "width": "70px"
      }
     },
     "17e89b65d5054d298739b87f1f2d0714": {
      "model_module": "@jupyter-widgets/controls",
      "model_module_version": "2.0.0",
      "model_name": "HTMLStyleModel",
      "state": {
       "description_width": "",
       "font_size": null,
       "text_color": null
      }
     },
     "18995d691810452485845a067ca847fd": {
      "model_module": "@jupyter-widgets/controls",
      "model_module_version": "2.0.0",
      "model_name": "HTMLModel",
      "state": {
       "layout": "IPY_MODEL_35bb604c435d4fd683fa18a9da65af6d",
       "style": "IPY_MODEL_c533a2ec479241f68f274df410ac8bff",
       "value": "<h5>Backend</h5>"
      }
     },
     "343a07f3493c420b86d49814f0b140e1": {
      "model_module": "@jupyter-widgets/base",
      "model_module_version": "2.0.0",
      "model_name": "LayoutModel",
      "state": {
       "grid_template_areas": "\n                                       \". . . . right \"\n                                        ",
       "grid_template_columns": "20% 20% 20% 20% 20%",
       "width": "100%"
      }
     },
     "35bb604c435d4fd683fa18a9da65af6d": {
      "model_module": "@jupyter-widgets/base",
      "model_module_version": "2.0.0",
      "model_name": "LayoutModel",
      "state": {
       "width": "145px"
      }
     },
     "3de00f0f06434d79bf7eb367518bcb8b": {
      "model_module": "@jupyter-widgets/controls",
      "model_module_version": "2.0.0",
      "model_name": "HTMLModel",
      "state": {
       "layout": "IPY_MODEL_9354573966e84b148fa8748cc96b2875",
       "style": "IPY_MODEL_17e89b65d5054d298739b87f1f2d0714",
       "value": "<h5>Job ID</h5>"
      }
     },
     "539f2bc25c114cdab86042b5c4c28c09": {
      "model_module": "@jupyter-widgets/controls",
      "model_module_version": "2.0.0",
      "model_name": "HTMLStyleModel",
      "state": {
       "description_width": "",
       "font_size": null,
       "text_color": null
      }
     },
     "58ebeba431d04288aeb89f00f7e5caa5": {
      "model_module": "@jupyter-widgets/base",
      "model_module_version": "2.0.0",
      "model_name": "LayoutModel",
      "state": {}
     },
     "69c0b78d06484c3fab88ca94ca8bd99b": {
      "model_module": "@jupyter-widgets/controls",
      "model_module_version": "2.0.0",
      "model_name": "ButtonModel",
      "state": {
       "button_style": "primary",
       "description": "Clear",
       "layout": "IPY_MODEL_7de1a0eac93a4b8ca08a55576c61c54a",
       "style": "IPY_MODEL_aa7b728bc1b24429ad1681e3b88a5b6e",
       "tooltip": null
      }
     },
     "7de1a0eac93a4b8ca08a55576c61c54a": {
      "model_module": "@jupyter-widgets/base",
      "model_module_version": "2.0.0",
      "model_name": "LayoutModel",
      "state": {
       "grid_area": "right",
       "padding": "0px 0px 0px 0px",
       "width": "70px"
      }
     },
     "80ac2f4f0cc04fb589e748b1a8a67807": {
      "model_module": "@jupyter-widgets/base",
      "model_module_version": "2.0.0",
      "model_name": "LayoutModel",
      "state": {
       "margin": "0px 0px 0px 37px",
       "width": "600px"
      }
     },
     "822e495e4a94459a8e24bc93c95c6f88": {
      "model_module": "@jupyter-widgets/controls",
      "model_module_version": "2.0.0",
      "model_name": "HTMLModel",
      "state": {
       "layout": "IPY_MODEL_8d6e95d5d1ad4c0abb73a48db182d0a1",
       "style": "IPY_MODEL_c936c3a59bb04ad7bd255ce6ebbad8ba",
       "value": "<p style='font-family: IBM Plex Sans, Arial, Helvetica, sans-serif; font-size: 20px; font-weight: medium;'>Circuit Properties</p>"
      }
     },
     "8d6e95d5d1ad4c0abb73a48db182d0a1": {
      "model_module": "@jupyter-widgets/base",
      "model_module_version": "2.0.0",
      "model_name": "LayoutModel",
      "state": {
       "margin": "0px 0px 10px 0px"
      }
     },
     "9354573966e84b148fa8748cc96b2875": {
      "model_module": "@jupyter-widgets/base",
      "model_module_version": "2.0.0",
      "model_name": "LayoutModel",
      "state": {
       "width": "190px"
      }
     },
     "9ce41eb5a9af48748a1abc2459f31eed": {
      "model_module": "@jupyter-widgets/base",
      "model_module_version": "2.0.0",
      "model_name": "LayoutModel",
      "state": {
       "width": "95px"
      }
     },
     "9fa39e918a1445b0b7e446b1c21f74d3": {
      "model_module": "@jupyter-widgets/controls",
      "model_module_version": "2.0.0",
      "model_name": "HTMLModel",
      "state": {
       "layout": "IPY_MODEL_14ddf9bee4094fb293f338a54e15d67d",
       "style": "IPY_MODEL_d5e7d7e2d8ff4127ae08af54ea34a828",
       "value": "<h5>Queue</h5>"
      }
     },
     "aa7b728bc1b24429ad1681e3b88a5b6e": {
      "model_module": "@jupyter-widgets/controls",
      "model_module_version": "2.0.0",
      "model_name": "ButtonStyleModel",
      "state": {
       "font_family": null,
       "font_size": null,
       "font_style": null,
       "font_variant": null,
       "font_weight": null,
       "text_color": null,
       "text_decoration": null
      }
     },
     "c533a2ec479241f68f274df410ac8bff": {
      "model_module": "@jupyter-widgets/controls",
      "model_module_version": "2.0.0",
      "model_name": "HTMLStyleModel",
      "state": {
       "description_width": "",
       "font_size": null,
       "text_color": null
      }
     },
     "c83dcebf893547fda77ac7405f141890": {
      "model_module": "@jupyter-widgets/controls",
      "model_module_version": "2.0.0",
      "model_name": "HTMLStyleModel",
      "state": {
       "description_width": "",
       "font_size": null,
       "text_color": null
      }
     },
     "c936c3a59bb04ad7bd255ce6ebbad8ba": {
      "model_module": "@jupyter-widgets/controls",
      "model_module_version": "2.0.0",
      "model_name": "HTMLStyleModel",
      "state": {
       "description_width": "",
       "font_size": null,
       "text_color": null
      }
     },
     "d5e7d7e2d8ff4127ae08af54ea34a828": {
      "model_module": "@jupyter-widgets/controls",
      "model_module_version": "2.0.0",
      "model_name": "HTMLStyleModel",
      "state": {
       "description_width": "",
       "font_size": null,
       "text_color": null
      }
     },
     "d9bbd59cefee422680f82bf46cda775c": {
      "model_module": "@jupyter-widgets/controls",
      "model_module_version": "2.0.0",
      "model_name": "GridBoxModel",
      "state": {
       "children": [
        "IPY_MODEL_69c0b78d06484c3fab88ca94ca8bd99b"
       ],
       "layout": "IPY_MODEL_343a07f3493c420b86d49814f0b140e1"
      }
     },
     "e4f2e71fbc7b477ea7ab0839abdfb8b3": {
      "model_module": "@jupyter-widgets/controls",
      "model_module_version": "2.0.0",
      "model_name": "HBoxModel",
      "state": {
       "children": [
        "IPY_MODEL_3de00f0f06434d79bf7eb367518bcb8b",
        "IPY_MODEL_18995d691810452485845a067ca847fd",
        "IPY_MODEL_f43496fed58042e6a6dc046ce795743a",
        "IPY_MODEL_9fa39e918a1445b0b7e446b1c21f74d3",
        "IPY_MODEL_12488772d74240a5bbdaffc5d5895dab"
       ],
       "layout": "IPY_MODEL_80ac2f4f0cc04fb589e748b1a8a67807"
      }
     },
     "f43496fed58042e6a6dc046ce795743a": {
      "model_module": "@jupyter-widgets/controls",
      "model_module_version": "2.0.0",
      "model_name": "HTMLModel",
      "state": {
       "layout": "IPY_MODEL_9ce41eb5a9af48748a1abc2459f31eed",
       "style": "IPY_MODEL_c83dcebf893547fda77ac7405f141890",
       "value": "<h5>Status</h5>"
      }
     }
    },
    "version_major": 2,
    "version_minor": 0
   }
  }
 },
 "nbformat": 4,
 "nbformat_minor": 5
}
