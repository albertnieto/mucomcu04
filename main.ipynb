{
 "cells": [
  {
   "cell_type": "markdown",
   "metadata": {},
   "source": [
    "## Información del Cuaderno\n",
    "\n",
    "**Máster en Computación Cuántica - UNIR**\n",
    "\n",
    "**Asignatura:** Computación Cuántica\n",
    "\n",
    "**Actividad del Cuaderno por:** Albert Nieto Morales, Javier Hernanz Zajara\n",
    "\n",
    "**Fecha:** 2023-12-27\n",
    "\n",
    "---\n",
    "\n",
    "*Nota: Este cuaderno es parte del programa de Máster en Computación Cuántica en UNIR. El contenido se centra en la Computación Cuántica y fue creado por Albert Nieto Morales, Javier Hernanz Zajara. Consulte la fecha para la última actualización.*\n"
   ]
  },
  {
   "cell_type": "markdown",
   "metadata": {},
   "source": [
    "# Enunciado y librerías\n",
    "\n",
    "### Introducción\n",
    "\n",
    "En esta actividad, se busca desarrollar competencias clave en el manejo de conceptos fundamentales de computación cuántica. Los objetivos principales incluyen la utilización de puertas cuánticas básicas, la comprensión de la evolución del estado cuántico, la exploración de los estados de Bell y la implementación de un incrementador cuántico.\n",
    "\n",
    "### Pautas de Elaboración\n",
    "\n",
    "**Ejercicio 1: Evolución a Estados de Bell**\n",
    "\n",
    "Se propone la implementación de cuatro circuitos cuánticos, cada uno evolucionando el estado del sistema a uno de los cuatro Estados de Bell. La descripción de la evolución se realiza tanto con notación de Dirac como en forma matricial. La verificación se lleva a cabo mediante la implementación en Qiskit Quantum Lab.\n",
    "\n",
    "**Ejercicio 2: Suma Cuántica de Cúbits**\n",
    "\n",
    "Se plantea la implementación de circuitos cuánticos de cuatro cúbits que suman los valores del 1 al 8 en un registro cuántico. La verificación de su correcto funcionamiento se realiza en Qiskit Quantum Lab.\n",
    "\n",
    "**Ejercicio 3: Teleportación Cuántica**\n",
    "\n",
    "Implementar en Python el algoritmo de teleportación cuántica para teleportar el estado  del cúbit de Alice al cúbit de Bob. El estado  viene determinado por los ángulos  grados y  grados, de la esfera de Bloch."
   ]
  },
  {
   "cell_type": "markdown",
   "metadata": {},
   "source": [
    "## Librerías\n",
    "\n",
    "Los paquetes necesarios para realizar la actividad son:\n",
    "\n",
    "- `qiskit`: La biblioteca principal de Qiskit.\n",
    "- `qiskit_ibm_provider`: Proporciona acceso a los servicios en la nube de IBM Quantum.\n",
    "- `qiskit-aer`: Proporciona acceso a simuladores cuánticos."
   ]
  },
  {
   "cell_type": "code",
   "execution_count": 1,
   "metadata": {},
   "outputs": [],
   "source": [
    "%%capture\n",
    "%pip install qiskit\n",
    "%pip install qiskit_ibm_provider\n",
    "%pip install qiskit-aer"
   ]
  },
  {
   "cell_type": "code",
   "execution_count": 2,
   "id": "9dab389e-3674-47e1-901d-81a26bf9f874",
   "metadata": {
    "tags": []
   },
   "outputs": [],
   "source": [
    "# Importing standard Qiskit libraries\n",
    "from qiskit import QuantumCircuit, transpile, Aer\n",
    "from qiskit_ibm_provider import IBMProvider\n",
    "from qiskit.tools.jupyter import *\n",
    "from qiskit.visualization import *\n",
    "\n",
    "# Importing matplotlib\n",
    "import matplotlib.pyplot as plt\n",
    "\n",
    "# Importing Numpy, Cmath and math\n",
    "import numpy as np\n",
    "import os, math, cmath\n",
    "\n",
    "# Other imports\n",
    "from IPython.display import display, Math, Latex"
   ]
  },
  {
   "cell_type": "markdown",
   "metadata": {},
   "source": [
    "Cargamos y actualizamos el entorno con las variables de entorno guardadas en `config.env`."
   ]
  },
  {
   "cell_type": "code",
   "execution_count": 3,
   "metadata": {},
   "outputs": [],
   "source": [
    "# Specify the path to your env file\n",
    "env_file_path = 'config.env'\n",
    "\n",
    "# Load environment variables from the file\n",
    "os.environ.update(line.strip().split('=', 1) for line in open(env_file_path) if '=' in line and not line.startswith('#'))\n",
    "\n",
    "# Load IBM Provider API KEY\n",
    "IBMP_API_KEY = os.environ.get('IBMP_API_KEY')"
   ]
  },
  {
   "cell_type": "markdown",
   "metadata": {},
   "source": [
    "Luego, extraemos la clave de API de IBM Quantum Provider y se guarda en la variable `IBMP_API_KEY`."
   ]
  },
  {
   "cell_type": "code",
   "execution_count": 4,
   "id": "77e60167-0c41-45e8-ae58-5e1b30338f4c",
   "metadata": {},
   "outputs": [],
   "source": [
    "# Loading your IBM Quantum account(s)\n",
    "IBMProvider.save_account(IBMP_API_KEY, overwrite=True)\n",
    "\n",
    "# Run the quantum circuit on a statevector simulator backend\n",
    "backend = Aer.get_backend('statevector_simulator')"
   ]
  },
  {
   "cell_type": "markdown",
   "metadata": {},
   "source": [
    "# Ejercicio 1\n",
    "Implementar cuatro circuitos cuánticos de forma que cada uno de ellos haga evolucionar el estado del sistema a cada uno de los cuatro estados de Bell. Describe la evolución del sistema paso a paso de dos formas: con notación de Dirac y en forma matricial. Finalmente, implementa los circuitos utilizando QISKIt Quantum Lab y verifica que los resultados son los esperados."
   ]
  },
  {
   "cell_type": "markdown",
   "metadata": {},
   "source": [
    "## Estados de Bell\n",
    "\n",
    "En computación cuántica, los Estados de Bell son un conjunto de cuatro estados cuánticos maximamente entrelazados. Estos estados, también conocidos como \"pares EPR\" o \"qubits entrelazados\", son generados mediante una serie de operaciones cuánticas específicas. Los cuatro Estados de Bell se denotan como:\n",
    "\n",
    "1. Estado de Bell $|ϕ⁺\\rangle$:\n",
    "\n",
    "   $\\frac{1}{\\sqrt{2}}(|0,0\\rangle + |1,1\\rangle)$\n",
    "\n",
    "2. Estado de Bell $|ϕ⁻\\rangle$:\n",
    "   \n",
    "   $\\frac{1}{\\sqrt{2}}(|0,0\\rangle - |1,1\\rangle)$\n",
    "\n",
    "3. Estado de Bell $|ψ⁺\\rangle$:\n",
    "   \n",
    "   $\\frac{1}{\\sqrt{2}}(|0,1\\rangle + |1,0\\rangle)$\n",
    "\n",
    "4. Estado de Bell $|ψ⁻\\rangle$:\n",
    "   \n",
    "   $\\frac{1}{\\sqrt{2}}(|0,1\\rangle - |1,0\\rangle)$"
   ]
  },
  {
   "cell_type": "markdown",
   "metadata": {},
   "source": [
    "Para realizar este ejercicio, definamos los vectores de estado $|0⟩$ y $|1⟩$ con su forma matricial en NumPy."
   ]
  },
  {
   "cell_type": "code",
   "execution_count": 5,
   "metadata": {},
   "outputs": [],
   "source": [
    "sv_0 = np.array([1, 0])\n",
    "sv_1 = np.array([0, 1])"
   ]
  },
  {
   "cell_type": "markdown",
   "metadata": {},
   "source": [
    "## Funciones auxiliares\n",
    "\n",
    "Para simplificar los pasos, se ha creado una función principal llamada `array_to_dirac_and_matrix_latex`. Esta función toma una matriz de NumPy que representa el estado del sistema y genera código LaTeX para visualizar tanto la representación matricial como la notación de Dirac del estado cuántico. Además, utiliza tres funciones auxiliares para realizar estas tareas:\n",
    "\n",
    "- **`array_to_matrix_representation`**: Convierte un array unidimensional en una representación matricial en columna.\n",
    "\n",
    "- **`array_to_dirac_notation`**: Convierte un array complejo que representa un estado cuántico en superposición a la notación de Dirac.\n",
    "\n",
    "- **`find_symbolic_representation`**: Verifica si un valor numérico corresponde a una constante simbólica dentro de una tolerancia especificada. Si se encuentra una correspondencia, devuelve la representación simbólica como cadena (con un signo '-' si el valor es negativo), de lo contrario, devuelve el valor original."
   ]
  },
  {
   "cell_type": "markdown",
   "metadata": {},
   "source": [
    "### `is_symbolic_constant` Function:\n",
    "\n",
    "**Purpose:**\n",
    "The `is_symbolic_constant` function checks if an amplitude corresponds to a symbolic constant within a specified tolerance.\n",
    "\n",
    "**Attributes:**\n",
    "- `amplitude` (float): The amplitude to check.\n",
    "- `symbolic_constants` (dict): A dictionary mapping numerical values to their symbolic representations.\n",
    "- `tolerance` (float): Tolerance for comparing amplitudes with symbolic constants.\n",
    "\n",
    "**Methods:**\n",
    "None\n",
    "\n",
    "**Example Usage:**\n",
    "```python\n",
    "symbol = is_symbolic_constant(my_amplitude)\n"
   ]
  },
  {
   "cell_type": "code",
   "execution_count": 6,
   "metadata": {},
   "outputs": [],
   "source": [
    "def find_symbolic_representation(value, symbolic_constants={1/np.sqrt(2): '1/√2'}, tolerance=1e-10):\n",
    "    \"\"\"\n",
    "    Check if the given numerical value corresponds to a symbolic constant within a specified tolerance.\n",
    "\n",
    "    Parameters:\n",
    "    - value (float): The numerical value to check.\n",
    "    - symbolic_constants (dict): A dictionary mapping numerical values to their symbolic representations.\n",
    "                                Defaults to {1/np.sqrt(2): '1/√2'}.\n",
    "    - tolerance (float): Tolerance for comparing values with symbolic constants. Defaults to 1e-10.\n",
    "\n",
    "    Returns:\n",
    "    str or float: If a match is found, returns the symbolic representation as a string \n",
    "                  (prefixed with '-' if the value is negative); otherwise, returns the original value.\n",
    "    \"\"\"\n",
    "    for constant, symbol in symbolic_constants.items():\n",
    "        if np.isclose(abs(value), constant, atol=tolerance):\n",
    "            return symbol if value >= 0 else '-' + symbol\n",
    "    return value\n"
   ]
  },
  {
   "cell_type": "markdown",
   "metadata": {},
   "source": [
    "### `array_to_dirac_notation` Function:\n",
    "\n",
    "**Purpose:**\n",
    "The `array_to_dirac_notation` function is designed to convert a complex-valued array representing a quantum state in superposition to Dirac notation.\n",
    "\n",
    "**Attributes:**\n",
    "- `array` (numpy.ndarray): The complex-valued array representing the quantum state in superposition.\n",
    "- `tolerance` (float): Tolerance for considering amplitudes as negligible.\n",
    "\n",
    "**Methods:**\n",
    "None\n",
    "\n",
    "**Example Usage:**\n",
    "```python\n",
    "dirac_notation = array_to_dirac_notation(my_quantum_state)\n"
   ]
  },
  {
   "cell_type": "code",
   "execution_count": 7,
   "metadata": {},
   "outputs": [],
   "source": [
    "def array_to_dirac_notation(array, tolerance=1e-10):\n",
    "    \"\"\"\n",
    "    Convert a complex-valued array representing a quantum state in superposition\n",
    "    to Dirac notation.\n",
    "\n",
    "    Parameters:\n",
    "    - array (numpy.ndarray): The complex-valued array representing\n",
    "      the quantum state in superposition.\n",
    "    - tolerance (float): Tolerance for considering amplitudes as negligible.\n",
    "\n",
    "    Returns:\n",
    "    str: The Dirac notation representation of the quantum state.\n",
    "    \"\"\"\n",
    "    # Ensure the statevector is normalized\n",
    "    array = array / np.linalg.norm(array)\n",
    "\n",
    "    # Get the number of qubits\n",
    "    num_qubits = int(np.log2(len(array)))\n",
    "\n",
    "    # Find indices where amplitude is not negligible\n",
    "    non_zero_indices = np.where(np.abs(array) > tolerance)[0]\n",
    "\n",
    "    # Generate Dirac notation terms\n",
    "    terms = [\n",
    "        (find_symbolic_representation(array[i]), format(i, f\"0{num_qubits}b\"))\n",
    "        for i in non_zero_indices\n",
    "    ]\n",
    "\n",
    "    # Format Dirac notation\n",
    "    dirac_notation = \" + \".join([f\"{amplitude}|{binary_rep}⟩\" for amplitude, binary_rep in terms])\n",
    "\n",
    "    return dirac_notation"
   ]
  },
  {
   "cell_type": "markdown",
   "metadata": {},
   "source": [
    "### `array_to_matrix_representation` Function:\n",
    "\n",
    "**Purpose:**\n",
    "The `array_to_matrix_representation` function is designed to convert a one-dimensional array to a column matrix representation.\n",
    "\n",
    "**Attributes:**\n",
    "- `array` (numpy.ndarray): The one-dimensional array to be converted.\n",
    "\n",
    "**Methods:**\n",
    "None\n",
    "\n",
    "**Example Usage:**\n",
    "```python\n",
    "matrix_rep = array_to_matrix_representation(my_array)\n"
   ]
  },
  {
   "cell_type": "code",
   "execution_count": 8,
   "metadata": {},
   "outputs": [],
   "source": [
    "def array_to_matrix_representation(array):\n",
    "    \"\"\"\n",
    "    Convert a one-dimensional array to a column matrix representation.\n",
    "\n",
    "    Parameters:\n",
    "    - array (numpy.ndarray): The one-dimensional array to be converted.\n",
    "\n",
    "    Returns:\n",
    "    numpy.ndarray: The column matrix representation of the input array.\n",
    "    \"\"\"\n",
    "    # Replace symbolic constants with their representations\n",
    "    matrix_representation = np.array([find_symbolic_representation(value) or value for value in array])\n",
    "\n",
    "    # Return the column matrix representation\n",
    "    return matrix_representation.reshape((len(matrix_representation), 1))"
   ]
  },
  {
   "cell_type": "markdown",
   "metadata": {},
   "source": [
    "### `array_to_dirac_and_matrix_latex` Function:\n",
    "\n",
    "**Purpose:**\n",
    "The `array_to_dirac_and_matrix_latex` function is designed to generate LaTeX code for displaying both the matrix representation and Dirac notation of a quantum state.\n",
    "\n",
    "**Attributes:**\n",
    "- `array` (numpy.ndarray): The complex-valued array representing the quantum state.\n",
    "\n",
    "**Methods:**\n",
    "- `array_to_matrix_representation(array)`: Converts a one-dimensional array to a column matrix representation.\n",
    "- `array_to_dirac_notation(array, tolerance=1e-10)`: Converts a complex-valued array representing a quantum state in superposition to Dirac notation.\n",
    "- `is_symbolic_constant(amplitude, symbolic_constants={1/np.sqrt(2): '1/√2'}, tolerance=1e-10)`: Checks if an amplitude corresponds to a symbolic constant within a specified tolerance.\n",
    "\n",
    "**Example Usage:**\n",
    "```python\n",
    "result = array_to_dirac_and_matrix_latex(my_quantum_state)\n"
   ]
  },
  {
   "cell_type": "code",
   "execution_count": 9,
   "metadata": {},
   "outputs": [],
   "source": [
    "def array_to_dirac_and_matrix_latex(array):\n",
    "    \"\"\"\n",
    "    Generate LaTeX code for displaying both the matrix representation and Dirac notation\n",
    "    of a quantum state.\n",
    "\n",
    "    Parameters:\n",
    "    - array (numpy.ndarray): The complex-valued array representing the quantum state.\n",
    "\n",
    "    Returns:\n",
    "\n",
    "    Latex: A Latex object containing LaTeX code for displaying both representations.\n",
    "    \"\"\"\n",
    "    matrix_representation = array_to_matrix_representation(array)\n",
    "    latex = \"Matrix representation\\n\\\\begin{bmatrix}\\n\" + \\\n",
    "            \"\\\\\\\\\\n\".join(map(str, matrix_representation.flatten())) + \\\n",
    "            \"\\n\\\\end{bmatrix}\\n\"\n",
    "    latex += f'Dirac Notation:\\n{array_to_dirac_notation(array)}'\n",
    "    return Latex(latex)"
   ]
  },
  {
   "cell_type": "markdown",
   "metadata": {},
   "source": [
    "## Estado de Bell $|ϕ⁺\\rangle$\n",
    "\n",
    "El objetivo es llegar al estado \n",
    "$\\frac{1}{\\sqrt{2}}(|0,0\\rangle + |1,1\\rangle)$\n",
    "\n",
    "Partiendo del estado base ∣00⟩"
   ]
  },
  {
   "cell_type": "code",
   "execution_count": 11,
   "metadata": {},
   "outputs": [
    {
     "data": {
      "text/latex": [
       "Matrix representation\n",
       "\\begin{bmatrix}\n",
       "1\\\\\n",
       "0\\\\\n",
       "0\\\\\n",
       "0\n",
       "\\end{bmatrix}\n",
       "Dirac Notation:\n",
       "1.0|00⟩"
      ],
      "text/plain": [
       "<IPython.core.display.Latex object>"
      ]
     },
     "execution_count": 11,
     "metadata": {},
     "output_type": "execute_result"
    }
   ],
   "source": [
    "sv_b1 = np.kron(sv_0, sv_0)\n",
    "array_to_dirac_and_matrix_latex(sv_b1)"
   ]
  },
  {
   "cell_type": "markdown",
   "metadata": {},
   "source": [
    "Añadimos una puerta Hadamart al primer qubit:"
   ]
  },
  {
   "cell_type": "code",
   "execution_count": 12,
   "metadata": {},
   "outputs": [
    {
     "data": {
      "text/latex": [
       "Matrix representation\n",
       "\\begin{bmatrix}\n",
       "1/√2\\\\\n",
       "1/√2\\\\\n",
       "0.0\\\\\n",
       "0.0\n",
       "\\end{bmatrix}\n",
       "Dirac Notation:\n",
       "1/√2|00⟩ + 1/√2|01⟩"
      ],
      "text/plain": [
       "<IPython.core.display.Latex object>"
      ]
     },
     "execution_count": 12,
     "metadata": {},
     "output_type": "execute_result"
    }
   ],
   "source": [
    "sv_b1 = (np.kron(sv_0, sv_0) + np.kron(sv_0, sv_1)) / np.sqrt(2)\n",
    "array_to_dirac_and_matrix_latex(sv_b1)"
   ]
  },
  {
   "cell_type": "markdown",
   "metadata": {},
   "source": [
    "Finalmente añadimos una puerta CNOT, donde el qubit de control es el primer qubit, y el qubit objetivo es el segundo:"
   ]
  },
  {
   "cell_type": "code",
   "execution_count": 13,
   "metadata": {},
   "outputs": [
    {
     "data": {
      "text/latex": [
       "Matrix representation\n",
       "\\begin{bmatrix}\n",
       "1/√2\\\\\n",
       "0.0\\\\\n",
       "0.0\\\\\n",
       "1/√2\n",
       "\\end{bmatrix}\n",
       "Dirac Notation:\n",
       "1/√2|00⟩ + 1/√2|11⟩"
      ],
      "text/plain": [
       "<IPython.core.display.Latex object>"
      ]
     },
     "execution_count": 13,
     "metadata": {},
     "output_type": "execute_result"
    }
   ],
   "source": [
    "sv_b1 = (np.kron(sv_0, sv_0) + np.kron(sv_1, sv_1)) / np.sqrt(2)\n",
    "array_to_dirac_and_matrix_latex(sv_b1)"
   ]
  },
  {
   "cell_type": "markdown",
   "metadata": {},
   "source": [
    "## Estado de Bell $|ϕ⁻\\rangle$\n",
    "\n",
    "El objetivo es llegar al estado $\\frac{1}{\\sqrt{2}}(|0,0\\rangle - |1,1\\rangle)$\n",
    "\n",
    "Partiendo del estado base ∣00⟩"
   ]
  },
  {
   "cell_type": "code",
   "execution_count": 14,
   "metadata": {},
   "outputs": [
    {
     "data": {
      "text/latex": [
       "Matrix representation\n",
       "\\begin{bmatrix}\n",
       "1\\\\\n",
       "0\\\\\n",
       "0\\\\\n",
       "0\n",
       "\\end{bmatrix}\n",
       "Dirac Notation:\n",
       "1.0|00⟩"
      ],
      "text/plain": [
       "<IPython.core.display.Latex object>"
      ]
     },
     "execution_count": 14,
     "metadata": {},
     "output_type": "execute_result"
    }
   ],
   "source": [
    "sv_b2 = np.kron(sv_0, sv_0)\n",
    "array_to_dirac_and_matrix_latex(sv_b2)"
   ]
  },
  {
   "cell_type": "markdown",
   "metadata": {},
   "source": [
    "Añadimos una puerta Hadamart al primer qubit:"
   ]
  },
  {
   "cell_type": "code",
   "execution_count": 15,
   "metadata": {},
   "outputs": [
    {
     "data": {
      "text/latex": [
       "Matrix representation\n",
       "\\begin{bmatrix}\n",
       "1/√2\\\\\n",
       "1/√2\\\\\n",
       "0.0\\\\\n",
       "0.0\n",
       "\\end{bmatrix}\n",
       "Dirac Notation:\n",
       "1/√2|00⟩ + 1/√2|01⟩"
      ],
      "text/plain": [
       "<IPython.core.display.Latex object>"
      ]
     },
     "execution_count": 15,
     "metadata": {},
     "output_type": "execute_result"
    }
   ],
   "source": [
    "sv_b2 = (np.kron(sv_0, sv_0) + np.kron(sv_0, sv_1)) / np.sqrt(2)\n",
    "array_to_dirac_and_matrix_latex(sv_b2)"
   ]
  },
  {
   "cell_type": "markdown",
   "metadata": {},
   "source": [
    "Añadimos una puerta CNOT, donde el qubit de control es el primer qubit, y el qubit objetivo es el segundo:"
   ]
  },
  {
   "cell_type": "code",
   "execution_count": 16,
   "metadata": {},
   "outputs": [
    {
     "data": {
      "text/latex": [
       "Matrix representation\n",
       "\\begin{bmatrix}\n",
       "1/√2\\\\\n",
       "0.0\\\\\n",
       "0.0\\\\\n",
       "1/√2\n",
       "\\end{bmatrix}\n",
       "Dirac Notation:\n",
       "1/√2|00⟩ + 1/√2|11⟩"
      ],
      "text/plain": [
       "<IPython.core.display.Latex object>"
      ]
     },
     "execution_count": 16,
     "metadata": {},
     "output_type": "execute_result"
    }
   ],
   "source": [
    "sv_b2 = (np.kron(sv_0, sv_0) + np.kron(sv_1, sv_1)) / np.sqrt(2)\n",
    "array_to_dirac_and_matrix_latex(sv_b2)"
   ]
  },
  {
   "cell_type": "markdown",
   "metadata": {},
   "source": [
    "Finalmente, añadimos una puerta Pauli-Z en el qubit 0 para pasar de $|+\\rangle$ a $|-\\rangle$."
   ]
  },
  {
   "cell_type": "code",
   "execution_count": 17,
   "metadata": {},
   "outputs": [
    {
     "data": {
      "text/latex": [
       "Matrix representation\n",
       "\\begin{bmatrix}\n",
       "1/√2\\\\\n",
       "0.0\\\\\n",
       "0.0\\\\\n",
       "-1/√2\n",
       "\\end{bmatrix}\n",
       "Dirac Notation:\n",
       "1/√2|00⟩ + -1/√2|11⟩"
      ],
      "text/plain": [
       "<IPython.core.display.Latex object>"
      ]
     },
     "execution_count": 17,
     "metadata": {},
     "output_type": "execute_result"
    }
   ],
   "source": [
    "sv_b2 = (np.kron(sv_0, sv_0) - np.kron(sv_1, sv_1)) / np.sqrt(2)\n",
    "array_to_dirac_and_matrix_latex(sv_b2)"
   ]
  },
  {
   "cell_type": "markdown",
   "metadata": {},
   "source": [
    "## Estado de Bell $|ψ⁺\\rangle$\n",
    "\n",
    "El objetivo es llegar al estado $\\frac{1}{\\sqrt{2}}(|0,1\\rangle + |1,0\\rangle)$\n",
    "\n",
    "Partiendo del estado base ∣00⟩"
   ]
  },
  {
   "cell_type": "code",
   "execution_count": 18,
   "metadata": {},
   "outputs": [
    {
     "data": {
      "text/latex": [
       "Matrix representation\n",
       "\\begin{bmatrix}\n",
       "1\\\\\n",
       "0\\\\\n",
       "0\\\\\n",
       "0\n",
       "\\end{bmatrix}\n",
       "Dirac Notation:\n",
       "1.0|00⟩"
      ],
      "text/plain": [
       "<IPython.core.display.Latex object>"
      ]
     },
     "execution_count": 18,
     "metadata": {},
     "output_type": "execute_result"
    }
   ],
   "source": [
    "sv_b3 = np.kron(sv_0, sv_0)\n",
    "array_to_dirac_and_matrix_latex(sv_b3)"
   ]
  },
  {
   "cell_type": "markdown",
   "metadata": {},
   "source": [
    "Añadimos una puerta Pauli-X al primer qubit:"
   ]
  },
  {
   "cell_type": "code",
   "execution_count": 19,
   "metadata": {},
   "outputs": [
    {
     "data": {
      "text/latex": [
       "Matrix representation\n",
       "\\begin{bmatrix}\n",
       "0\\\\\n",
       "1\\\\\n",
       "0\\\\\n",
       "0\n",
       "\\end{bmatrix}\n",
       "Dirac Notation:\n",
       "1.0|01⟩"
      ],
      "text/plain": [
       "<IPython.core.display.Latex object>"
      ]
     },
     "execution_count": 19,
     "metadata": {},
     "output_type": "execute_result"
    }
   ],
   "source": [
    "sv_b3 = np.kron(sv_0, sv_1)\n",
    "array_to_dirac_and_matrix_latex(sv_b3)"
   ]
  },
  {
   "cell_type": "markdown",
   "metadata": {},
   "source": [
    "Añadimos una puerta Hadamart al primer qubit:"
   ]
  },
  {
   "cell_type": "code",
   "execution_count": 20,
   "metadata": {},
   "outputs": [
    {
     "data": {
      "text/latex": [
       "Matrix representation\n",
       "\\begin{bmatrix}\n",
       "1/√2\\\\\n",
       "-1/√2\\\\\n",
       "0.0\\\\\n",
       "0.0\n",
       "\\end{bmatrix}\n",
       "Dirac Notation:\n",
       "1/√2|00⟩ + -1/√2|01⟩"
      ],
      "text/plain": [
       "<IPython.core.display.Latex object>"
      ]
     },
     "execution_count": 20,
     "metadata": {},
     "output_type": "execute_result"
    }
   ],
   "source": [
    "sv_b3 = (np.kron(sv_0, sv_0) - np.kron(sv_0, sv_1)) / np.sqrt(2)\n",
    "array_to_dirac_and_matrix_latex(sv_b3)"
   ]
  },
  {
   "cell_type": "markdown",
   "metadata": {},
   "source": [
    "Añadimos una puerta CNOT, donde el qubit de control es el primer qubit, y el qubit objetivo es el segundo:"
   ]
  },
  {
   "cell_type": "code",
   "execution_count": 21,
   "metadata": {},
   "outputs": [
    {
     "data": {
      "text/latex": [
       "Matrix representation\n",
       "\\begin{bmatrix}\n",
       "0.0\\\\\n",
       "1/√2\\\\\n",
       "-1/√2\\\\\n",
       "0.0\n",
       "\\end{bmatrix}\n",
       "Dirac Notation:\n",
       "1/√2|01⟩ + -1/√2|10⟩"
      ],
      "text/plain": [
       "<IPython.core.display.Latex object>"
      ]
     },
     "execution_count": 21,
     "metadata": {},
     "output_type": "execute_result"
    }
   ],
   "source": [
    "sv_b3 = (np.kron(sv_0, sv_1) - np.kron(sv_1, sv_0)) / np.sqrt(2)\n",
    "array_to_dirac_and_matrix_latex(sv_b3)"
   ]
  },
  {
   "cell_type": "markdown",
   "metadata": {},
   "source": [
    "Finalmente, añadimos una puerta Pauli-Z en el qubit 0 para pasar de $|+\\rangle$ a $|-\\rangle$."
   ]
  },
  {
   "cell_type": "code",
   "execution_count": 22,
   "metadata": {},
   "outputs": [
    {
     "data": {
      "text/latex": [
       "Matrix representation\n",
       "\\begin{bmatrix}\n",
       "0.0\\\\\n",
       "1/√2\\\\\n",
       "1/√2\\\\\n",
       "0.0\n",
       "\\end{bmatrix}\n",
       "Dirac Notation:\n",
       "1/√2|01⟩ + 1/√2|10⟩"
      ],
      "text/plain": [
       "<IPython.core.display.Latex object>"
      ]
     },
     "execution_count": 22,
     "metadata": {},
     "output_type": "execute_result"
    }
   ],
   "source": [
    "sv_b3 = (np.kron(sv_0, sv_1) + np.kron(sv_1, sv_0)) / np.sqrt(2)\n",
    "array_to_dirac_and_matrix_latex(sv_b3)"
   ]
  },
  {
   "cell_type": "markdown",
   "metadata": {},
   "source": [
    "## Estado de Bell $|ψ⁻\\rangle$\n",
    "\n",
    "El objetivo es llegar al estado $\\frac{1}{\\sqrt{2}}(|0,1\\rangle - |1,0\\rangle)$\n",
    "\n",
    "Partiendo del estado base ∣00⟩"
   ]
  },
  {
   "cell_type": "code",
   "execution_count": 23,
   "metadata": {},
   "outputs": [
    {
     "data": {
      "text/latex": [
       "Matrix representation\n",
       "\\begin{bmatrix}\n",
       "1\\\\\n",
       "0\\\\\n",
       "0\\\\\n",
       "0\n",
       "\\end{bmatrix}\n",
       "Dirac Notation:\n",
       "1.0|00⟩"
      ],
      "text/plain": [
       "<IPython.core.display.Latex object>"
      ]
     },
     "execution_count": 23,
     "metadata": {},
     "output_type": "execute_result"
    }
   ],
   "source": [
    "sv_b4 = np.kron(sv_0, sv_0)\n",
    "array_to_dirac_and_matrix_latex(sv_b4)"
   ]
  },
  {
   "cell_type": "markdown",
   "metadata": {},
   "source": [
    "Añadimos una puerta Pauli-X al primer qubit:"
   ]
  },
  {
   "cell_type": "code",
   "execution_count": 24,
   "metadata": {},
   "outputs": [
    {
     "data": {
      "text/latex": [
       "Matrix representation\n",
       "\\begin{bmatrix}\n",
       "0\\\\\n",
       "1\\\\\n",
       "0\\\\\n",
       "0\n",
       "\\end{bmatrix}\n",
       "Dirac Notation:\n",
       "1.0|01⟩"
      ],
      "text/plain": [
       "<IPython.core.display.Latex object>"
      ]
     },
     "execution_count": 24,
     "metadata": {},
     "output_type": "execute_result"
    }
   ],
   "source": [
    "sv_b4 = np.kron(sv_0, sv_1)\n",
    "array_to_dirac_and_matrix_latex(sv_b4)"
   ]
  },
  {
   "cell_type": "markdown",
   "metadata": {},
   "source": [
    "Añadimos una puerta Hadamart al primer qubit:"
   ]
  },
  {
   "cell_type": "code",
   "execution_count": 25,
   "metadata": {},
   "outputs": [
    {
     "data": {
      "text/latex": [
       "Matrix representation\n",
       "\\begin{bmatrix}\n",
       "1/√2\\\\\n",
       "-1/√2\\\\\n",
       "0.0\\\\\n",
       "0.0\n",
       "\\end{bmatrix}\n",
       "Dirac Notation:\n",
       "1/√2|00⟩ + -1/√2|01⟩"
      ],
      "text/plain": [
       "<IPython.core.display.Latex object>"
      ]
     },
     "execution_count": 25,
     "metadata": {},
     "output_type": "execute_result"
    }
   ],
   "source": [
    "sv_b4 = (np.kron(sv_0, sv_0) - np.kron(sv_0, sv_1)) / np.sqrt(2)\n",
    "array_to_dirac_and_matrix_latex(sv_b4)"
   ]
  },
  {
   "cell_type": "markdown",
   "metadata": {},
   "source": [
    "Añadimos una puerta CNOT, donde el qubit de control es el primer qubit, y el qubit objetivo es el segundo:"
   ]
  },
  {
   "cell_type": "code",
   "execution_count": 26,
   "metadata": {},
   "outputs": [
    {
     "data": {
      "text/latex": [
       "Matrix representation\n",
       "\\begin{bmatrix}\n",
       "0.0\\\\\n",
       "1/√2\\\\\n",
       "-1/√2\\\\\n",
       "0.0\n",
       "\\end{bmatrix}\n",
       "Dirac Notation:\n",
       "1/√2|01⟩ + -1/√2|10⟩"
      ],
      "text/plain": [
       "<IPython.core.display.Latex object>"
      ]
     },
     "execution_count": 26,
     "metadata": {},
     "output_type": "execute_result"
    }
   ],
   "source": [
    "sv_b3 = (np.kron(sv_0, sv_1) - np.kron(sv_1, sv_0)) / np.sqrt(2)\n",
    "array_to_dirac_and_matrix_latex(sv_b3)"
   ]
  },
  {
   "cell_type": "markdown",
   "metadata": {},
   "source": [
    "## Implementación en un circuito"
   ]
  },
  {
   "cell_type": "markdown",
   "metadata": {},
   "source": [
    "$|ϕ⁺\\rangle = \\frac{1}{\\sqrt{2}}(|0,0\\rangle + |1,1\\rangle)$"
   ]
  },
  {
   "cell_type": "code",
   "execution_count": 34,
   "metadata": {},
   "outputs": [
    {
     "data": {
      "text/latex": [
       "$$\\frac{\\sqrt{2}}{2} |00\\rangle+\\frac{\\sqrt{2}}{2} |11\\rangle$$"
      ],
      "text/plain": [
       "<IPython.core.display.Latex object>"
      ]
     },
     "execution_count": 34,
     "metadata": {},
     "output_type": "execute_result"
    }
   ],
   "source": [
    "qc_b1 = QuantumCircuit(2, 2)\n",
    "qc_b1.h(0)\n",
    "qc_b1.cx(0, 1)\n",
    "\n",
    "sv = backend.run(qc_b1).result().get_statevector()\n",
    "sv.draw(output='latex')"
   ]
  },
  {
   "cell_type": "markdown",
   "metadata": {},
   "source": [
    "$|ϕ⁻\\rangle = \\frac{1}{\\sqrt{2}}(|0,0\\rangle - |1,1\\rangle)$"
   ]
  },
  {
   "cell_type": "code",
   "execution_count": 38,
   "metadata": {},
   "outputs": [
    {
     "data": {
      "text/latex": [
       "$$\\frac{\\sqrt{2}}{2} |00\\rangle- \\frac{\\sqrt{2}}{2} |11\\rangle$$"
      ],
      "text/plain": [
       "<IPython.core.display.Latex object>"
      ]
     },
     "execution_count": 38,
     "metadata": {},
     "output_type": "execute_result"
    }
   ],
   "source": [
    "qc_b2 = QuantumCircuit(2, 2)\n",
    "qc_b2.h(0)\n",
    "qc_b2.cx(0, 1)\n",
    "qc_b2.z(0)\n",
    "\n",
    "sv = backend.run(qc_b2).result().get_statevector()\n",
    "sv.draw(output='latex')"
   ]
  },
  {
   "cell_type": "markdown",
   "metadata": {},
   "source": [
    "$|ψ⁺\\rangle = \\frac{1}{\\sqrt{2}}(|0,1\\rangle + |1,0\\rangle)$"
   ]
  },
  {
   "cell_type": "code",
   "execution_count": 44,
   "metadata": {},
   "outputs": [
    {
     "data": {
      "text/latex": [
       "$$\\frac{\\sqrt{2}}{2} |01\\rangle+\\frac{\\sqrt{2}}{2} |10\\rangle$$"
      ],
      "text/plain": [
       "<IPython.core.display.Latex object>"
      ]
     },
     "execution_count": 44,
     "metadata": {},
     "output_type": "execute_result"
    }
   ],
   "source": [
    "qc_b3 = QuantumCircuit(2, 2)\n",
    "qc_b3.h(0)\n",
    "qc_b3.cx(0, 1)\n",
    "qc_b3.x(0)\n",
    "\n",
    "sv = backend.run(qc_b3).result().get_statevector()\n",
    "sv.draw(output='latex')"
   ]
  },
  {
   "cell_type": "markdown",
   "metadata": {},
   "source": [
    "$|ψ⁻\\rangle = \\frac{1}{\\sqrt{2}}(|0,1\\rangle - |1,0\\rangle)$"
   ]
  },
  {
   "cell_type": "code",
   "execution_count": 46,
   "metadata": {},
   "outputs": [
    {
     "data": {
      "text/latex": [
       "$$\\frac{\\sqrt{2}}{2} |01\\rangle- \\frac{\\sqrt{2}}{2} |10\\rangle$$"
      ],
      "text/plain": [
       "<IPython.core.display.Latex object>"
      ]
     },
     "execution_count": 46,
     "metadata": {},
     "output_type": "execute_result"
    }
   ],
   "source": [
    "qc_b4 = QuantumCircuit(2, 2)\n",
    "qc_b4.h(0)\n",
    "qc_b4.cx(0, 1)\n",
    "qc_b4.x(0)\n",
    "qc_b4.z(1)\n",
    "\n",
    "sv = backend.run(qc_b4).result().get_statevector()\n",
    "sv.draw(output='latex')"
   ]
  },
  {
   "cell_type": "markdown",
   "metadata": {},
   "source": [
    "# Ejercicio 2\n",
    "Implementar los circuitos de cuatro cúbits que suman al registro cuántico los valores 1, 2, 3, 4, 5, 6, 7 y 8 y verificar que funcionan correctamente. Utilizar QISKit Quantum lab."
   ]
  },
  {
   "cell_type": "code",
   "execution_count": 28,
   "metadata": {},
   "outputs": [],
   "source": [
    "def sv_latex_from_qc(qc, backend):\n",
    "    sv = backend.run(qc).result().get_statevector()\n",
    "    return sv.draw(output='latex')\n"
   ]
  },
  {
   "cell_type": "markdown",
   "metadata": {},
   "source": [
    "Creamos un circuito cuántico de 4 qubits"
   ]
  },
  {
   "cell_type": "code",
   "execution_count": 48,
   "metadata": {},
   "outputs": [
    {
     "data": {
      "text/latex": [
       "$$ |0001\\rangle$$"
      ],
      "text/plain": [
       "<IPython.core.display.Latex object>"
      ]
     },
     "execution_count": 48,
     "metadata": {},
     "output_type": "execute_result"
    }
   ],
   "source": [
    "qc_ej2 = QuantumCircuit(4, 4)\n",
    "qc_ej2.x(0)\n",
    "sv_latex_from_qc(qc_ej2, backend)"
   ]
  },
  {
   "cell_type": "code",
   "execution_count": 49,
   "metadata": {},
   "outputs": [
    {
     "data": {
      "text/latex": [
       "$$ |0010\\rangle$$"
      ],
      "text/plain": [
       "<IPython.core.display.Latex object>"
      ]
     },
     "execution_count": 49,
     "metadata": {},
     "output_type": "execute_result"
    }
   ],
   "source": [
    "qc_ej2 = QuantumCircuit(4, 4)\n",
    "qc_ej2.x(1)\n",
    "sv_latex_from_qc(qc_ej2, backend)"
   ]
  },
  {
   "cell_type": "code",
   "execution_count": 50,
   "metadata": {},
   "outputs": [
    {
     "data": {
      "text/latex": [
       "$$ |0011\\rangle$$"
      ],
      "text/plain": [
       "<IPython.core.display.Latex object>"
      ]
     },
     "execution_count": 50,
     "metadata": {},
     "output_type": "execute_result"
    }
   ],
   "source": [
    "qc_ej2 = QuantumCircuit(4, 4)\n",
    "qc_ej2.x(0)\n",
    "qc_ej2.x(1)\n",
    "sv_latex_from_qc(qc_ej2, backend)"
   ]
  },
  {
   "cell_type": "code",
   "execution_count": 51,
   "metadata": {},
   "outputs": [
    {
     "data": {
      "text/latex": [
       "$$ |0100\\rangle$$"
      ],
      "text/plain": [
       "<IPython.core.display.Latex object>"
      ]
     },
     "execution_count": 51,
     "metadata": {},
     "output_type": "execute_result"
    }
   ],
   "source": [
    "qc_ej2 = QuantumCircuit(4, 4)\n",
    "qc_ej2.x(2)\n",
    "sv_latex_from_qc(qc_ej2, backend)"
   ]
  },
  {
   "cell_type": "code",
   "execution_count": 52,
   "metadata": {},
   "outputs": [
    {
     "data": {
      "text/latex": [
       "$$ |0101\\rangle$$"
      ],
      "text/plain": [
       "<IPython.core.display.Latex object>"
      ]
     },
     "execution_count": 52,
     "metadata": {},
     "output_type": "execute_result"
    }
   ],
   "source": [
    "qc_ej2 = QuantumCircuit(4, 4)\n",
    "qc_ej2.x(0)\n",
    "qc_ej2.x(2)\n",
    "sv_latex_from_qc(qc_ej2, backend)"
   ]
  },
  {
   "cell_type": "code",
   "execution_count": 53,
   "metadata": {},
   "outputs": [
    {
     "data": {
      "text/latex": [
       "$$ |0101\\rangle$$"
      ],
      "text/plain": [
       "<IPython.core.display.Latex object>"
      ]
     },
     "execution_count": 53,
     "metadata": {},
     "output_type": "execute_result"
    }
   ],
   "source": [
    "qc_ej2 = QuantumCircuit(4, 4)\n",
    "qc_ej2.x(0)\n",
    "qc_ej2.x(2)\n",
    "sv_latex_from_qc(qc_ej2, backend)"
   ]
  },
  {
   "cell_type": "code",
   "execution_count": 54,
   "metadata": {},
   "outputs": [
    {
     "data": {
      "text/latex": [
       "$$ |0111\\rangle$$"
      ],
      "text/plain": [
       "<IPython.core.display.Latex object>"
      ]
     },
     "execution_count": 54,
     "metadata": {},
     "output_type": "execute_result"
    }
   ],
   "source": [
    "qc_ej2 = QuantumCircuit(4, 4)\n",
    "qc_ej2.x(0)\n",
    "qc_ej2.x(1)\n",
    "qc_ej2.x(2)\n",
    "sv_latex_from_qc(qc_ej2, backend)"
   ]
  },
  {
   "cell_type": "code",
   "execution_count": 55,
   "metadata": {},
   "outputs": [
    {
     "data": {
      "text/latex": [
       "$$ |1000\\rangle$$"
      ],
      "text/plain": [
       "<IPython.core.display.Latex object>"
      ]
     },
     "execution_count": 55,
     "metadata": {},
     "output_type": "execute_result"
    }
   ],
   "source": [
    "qc_ej2 = QuantumCircuit(4, 4)\n",
    "qc_ej2.x(3)\n",
    "sv_latex_from_qc(qc_ej2, backend)"
   ]
  },
  {
   "cell_type": "markdown",
   "metadata": {},
   "source": [
    "# Ejercicio 3\n",
    "Implementar en Python el algoritmo de teleportación cuántica para teleportar el estado  del cúbit de Alice al cúbit de Bob. El estado  viene determinado por los ángulos  grados y  grados, de la esfera de Bloch."
   ]
  },
  {
   "cell_type": "code",
   "execution_count": null,
   "metadata": {},
   "outputs": [],
   "source": []
  }
 ],
 "metadata": {
  "kernelspec": {
   "display_name": "Python 3 (ipykernel)",
   "language": "python",
   "name": "python3"
  },
  "language_info": {
   "codemirror_mode": {
    "name": "ipython",
    "version": 3
   },
   "file_extension": ".py",
   "mimetype": "text/x-python",
   "name": "python",
   "nbconvert_exporter": "python",
   "pygments_lexer": "ipython3",
   "version": "3.10.8"
  },
  "widgets": {
   "application/vnd.jupyter.widget-state+json": {
    "state": {
     "1b29c69415fe41ff801b7a480143b0e9": {
      "model_module": "@jupyter-widgets/controls",
      "model_module_version": "2.0.0",
      "model_name": "HTMLStyleModel",
      "state": {
       "description_width": "",
       "font_size": null,
       "text_color": null
      }
     },
     "23f7babb95494caf8424dbdc97ba71d2": {
      "model_module": "@jupyter-widgets/controls",
      "model_module_version": "2.0.0",
      "model_name": "HTMLStyleModel",
      "state": {
       "description_width": "",
       "font_size": null,
       "text_color": null
      }
     },
     "260e6e76f6d64707b11cf60282c77b89": {
      "model_module": "@jupyter-widgets/base",
      "model_module_version": "2.0.0",
      "model_name": "LayoutModel",
      "state": {
       "width": "95px"
      }
     },
     "29a3bafdbd3642c685c1a69f1bbdfbd5": {
      "model_module": "@jupyter-widgets/controls",
      "model_module_version": "2.0.0",
      "model_name": "GridBoxModel",
      "state": {
       "children": [
        "IPY_MODEL_c5375cbd0d00477a8a996dadc8c6a1a7"
       ],
       "layout": "IPY_MODEL_a745ac641b224846af59aa8c6a1bfcda"
      }
     },
     "2af6bd97c79d426cb462e116898b63ac": {
      "model_module": "@jupyter-widgets/base",
      "model_module_version": "2.0.0",
      "model_name": "LayoutModel",
      "state": {
       "grid_area": "right",
       "padding": "0px 0px 0px 0px",
       "width": "70px"
      }
     },
     "42ffcaacbee941aa89dca150a40e1824": {
      "model_module": "@jupyter-widgets/controls",
      "model_module_version": "2.0.0",
      "model_name": "HTMLStyleModel",
      "state": {
       "description_width": "",
       "font_size": null,
       "text_color": null
      }
     },
     "51b9df6a961b491d908ad5b238a531ec": {
      "model_module": "@jupyter-widgets/controls",
      "model_module_version": "2.0.0",
      "model_name": "HTMLModel",
      "state": {
       "layout": "IPY_MODEL_7b8270f652a6411697d3ddb990425fc5",
       "style": "IPY_MODEL_1b29c69415fe41ff801b7a480143b0e9",
       "value": "<h5>Message</h5>"
      }
     },
     "5263dee839684b71bddb38ed76ef7d14": {
      "model_module": "@jupyter-widgets/controls",
      "model_module_version": "2.0.0",
      "model_name": "HTMLModel",
      "state": {
       "layout": "IPY_MODEL_260e6e76f6d64707b11cf60282c77b89",
       "style": "IPY_MODEL_23f7babb95494caf8424dbdc97ba71d2",
       "value": "<h5>Status</h5>"
      }
     },
     "57d10c8be64e4f44bbe079ccdce440e2": {
      "model_module": "@jupyter-widgets/controls",
      "model_module_version": "2.0.0",
      "model_name": "HTMLModel",
      "state": {
       "layout": "IPY_MODEL_f1d82c5e50f848eebb0b88df1187e2ea",
       "style": "IPY_MODEL_859c58ff2be14e0899128818f0fade05",
       "value": "<h5>Job ID</h5>"
      }
     },
     "5c1d8f494df444109e2be8fa3f3d5adb": {
      "model_module": "@jupyter-widgets/controls",
      "model_module_version": "2.0.0",
      "model_name": "HTMLModel",
      "state": {
       "layout": "IPY_MODEL_e65db3ba8e654779a494287143cd0857",
       "style": "IPY_MODEL_f53b46c305e7421db394231014b8fe1a",
       "value": "<p style='font-family: IBM Plex Sans, Arial, Helvetica, sans-serif; font-size: 20px; font-weight: medium;'>Circuit Properties</p>"
      }
     },
     "654b2910a31c432c9d2bc260bac24706": {
      "model_module": "@jupyter-widgets/controls",
      "model_module_version": "2.0.0",
      "model_name": "HBoxModel",
      "state": {
       "children": [
        "IPY_MODEL_57d10c8be64e4f44bbe079ccdce440e2",
        "IPY_MODEL_6dd42fe1bb524aef914d6457e5468094",
        "IPY_MODEL_5263dee839684b71bddb38ed76ef7d14",
        "IPY_MODEL_f7e5476fd93c43c899a5ffd9e9609ce9",
        "IPY_MODEL_51b9df6a961b491d908ad5b238a531ec"
       ],
       "layout": "IPY_MODEL_81c063474a6948da982ec45cfff14ca7"
      }
     },
     "6dd42fe1bb524aef914d6457e5468094": {
      "model_module": "@jupyter-widgets/controls",
      "model_module_version": "2.0.0",
      "model_name": "HTMLModel",
      "state": {
       "layout": "IPY_MODEL_b88933a38b324945b8bcc0ac81240320",
       "style": "IPY_MODEL_42ffcaacbee941aa89dca150a40e1824",
       "value": "<h5>Backend</h5>"
      }
     },
     "7b8270f652a6411697d3ddb990425fc5": {
      "model_module": "@jupyter-widgets/base",
      "model_module_version": "2.0.0",
      "model_name": "LayoutModel",
      "state": {}
     },
     "81c063474a6948da982ec45cfff14ca7": {
      "model_module": "@jupyter-widgets/base",
      "model_module_version": "2.0.0",
      "model_name": "LayoutModel",
      "state": {
       "margin": "0px 0px 0px 37px",
       "width": "600px"
      }
     },
     "859c58ff2be14e0899128818f0fade05": {
      "model_module": "@jupyter-widgets/controls",
      "model_module_version": "2.0.0",
      "model_name": "HTMLStyleModel",
      "state": {
       "description_width": "",
       "font_size": null,
       "text_color": null
      }
     },
     "a0072272d3434e7ab5e2173c5d6ca676": {
      "model_module": "@jupyter-widgets/base",
      "model_module_version": "2.0.0",
      "model_name": "LayoutModel",
      "state": {
       "width": "70px"
      }
     },
     "a745ac641b224846af59aa8c6a1bfcda": {
      "model_module": "@jupyter-widgets/base",
      "model_module_version": "2.0.0",
      "model_name": "LayoutModel",
      "state": {
       "grid_template_areas": "\n                                       \". . . . right \"\n                                        ",
       "grid_template_columns": "20% 20% 20% 20% 20%",
       "width": "100%"
      }
     },
     "b88933a38b324945b8bcc0ac81240320": {
      "model_module": "@jupyter-widgets/base",
      "model_module_version": "2.0.0",
      "model_name": "LayoutModel",
      "state": {
       "width": "145px"
      }
     },
     "c5375cbd0d00477a8a996dadc8c6a1a7": {
      "model_module": "@jupyter-widgets/controls",
      "model_module_version": "2.0.0",
      "model_name": "ButtonModel",
      "state": {
       "button_style": "primary",
       "description": "Clear",
       "layout": "IPY_MODEL_2af6bd97c79d426cb462e116898b63ac",
       "style": "IPY_MODEL_f2e5a07cde464f2b9d165b9385636dd2",
       "tooltip": null
      }
     },
     "d939775841cf4e4aa66043b4484e5cee": {
      "model_module": "@jupyter-widgets/controls",
      "model_module_version": "2.0.0",
      "model_name": "HTMLStyleModel",
      "state": {
       "description_width": "",
       "font_size": null,
       "text_color": null
      }
     },
     "e65db3ba8e654779a494287143cd0857": {
      "model_module": "@jupyter-widgets/base",
      "model_module_version": "2.0.0",
      "model_name": "LayoutModel",
      "state": {
       "margin": "0px 0px 10px 0px"
      }
     },
     "f1d82c5e50f848eebb0b88df1187e2ea": {
      "model_module": "@jupyter-widgets/base",
      "model_module_version": "2.0.0",
      "model_name": "LayoutModel",
      "state": {
       "width": "190px"
      }
     },
     "f2e5a07cde464f2b9d165b9385636dd2": {
      "model_module": "@jupyter-widgets/controls",
      "model_module_version": "2.0.0",
      "model_name": "ButtonStyleModel",
      "state": {
       "font_family": null,
       "font_size": null,
       "font_style": null,
       "font_variant": null,
       "font_weight": null,
       "text_color": null,
       "text_decoration": null
      }
     },
     "f53b46c305e7421db394231014b8fe1a": {
      "model_module": "@jupyter-widgets/controls",
      "model_module_version": "2.0.0",
      "model_name": "HTMLStyleModel",
      "state": {
       "description_width": "",
       "font_size": null,
       "text_color": null
      }
     },
     "f7e5476fd93c43c899a5ffd9e9609ce9": {
      "model_module": "@jupyter-widgets/controls",
      "model_module_version": "2.0.0",
      "model_name": "HTMLModel",
      "state": {
       "layout": "IPY_MODEL_a0072272d3434e7ab5e2173c5d6ca676",
       "style": "IPY_MODEL_d939775841cf4e4aa66043b4484e5cee",
       "value": "<h5>Queue</h5>"
      }
     }
    },
    "version_major": 2,
    "version_minor": 0
   }
  }
 },
 "nbformat": 4,
 "nbformat_minor": 5
}
